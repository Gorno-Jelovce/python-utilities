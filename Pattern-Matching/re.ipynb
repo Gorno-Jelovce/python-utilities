{
 "cells": [
  {
   "cell_type": "code",
   "execution_count": 1,
   "id": "fff16d4b-e4c8-4354-a48b-86c4bd778f9a",
   "metadata": {},
   "outputs": [],
   "source": [
    "# re module contains all regex funcitons\n",
    "import re"
   ]
  },
  {
   "cell_type": "code",
   "execution_count": 2,
   "id": "59608405-7823-4e12-8410-28712c8d977a",
   "metadata": {},
   "outputs": [
    {
     "name": "stdout",
     "output_type": "stream",
     "text": [
      "Mobile Number Found: 454-555-6654\n"
     ]
    }
   ],
   "source": [
    "phoneNumRegex = re.compile(r'\\d\\d\\d-\\d\\d\\d-\\d\\d\\d\\d') # Regex object\n",
    "mo = phoneNumRegex.search(\"My mobile number is 454-555-6654\") # Match object\n",
    "print(\"Mobile Number Found: \" + mo.group())"
   ]
  },
  {
   "cell_type": "code",
   "execution_count": 3,
   "id": "4fd92c08-e53e-4c1c-bf9c-81876be64605",
   "metadata": {},
   "outputs": [
    {
     "name": "stdout",
     "output_type": "stream",
     "text": [
      "454\n",
      "555-6654\n",
      "454-555-6654\n",
      "('454', '555-6654')\n",
      "The area code is 454\n",
      "The main number is 555-6654\n"
     ]
    }
   ],
   "source": [
    "# Grouping with paranthesis ()\n",
    "phoneNumRegex = re.compile(r'(\\d\\d\\d)-(\\d\\d\\d-\\d\\d\\d\\d)')\n",
    "mo = phoneNumRegex.search(\"My mobile number is 454-555-6654\")\n",
    "print(mo.group(1))\n",
    "print(mo.group(2))\n",
    "print(mo.group(0))\n",
    "print(mo.groups())\n",
    "areaCode, mainNumber = mo.groups()\n",
    "print(\"The area code is\",areaCode)\n",
    "print(\"The main number is\",mainNumber)"
   ]
  },
  {
   "cell_type": "code",
   "execution_count": 4,
   "id": "e3d98929-8955-4d79-935e-c1ec51f6113d",
   "metadata": {},
   "outputs": [
    {
     "name": "stdout",
     "output_type": "stream",
     "text": [
      "(454)\n",
      "555-6654\n"
     ]
    }
   ],
   "source": [
    "# Escaping paranthesis\n",
    "phoneNumRegex = re.compile(r'(\\(\\d\\d\\d\\))-(\\d\\d\\d-\\d\\d\\d\\d)')\n",
    "mo = phoneNumRegex.search(\"My mobile number is (454)-555-6654\")\n",
    "print(mo.group(1))\n",
    "print(mo.group(2))"
   ]
  },
  {
   "cell_type": "code",
   "execution_count": 5,
   "id": "3bdcd500-9c5e-4bd3-b388-0d6e324813ac",
   "metadata": {},
   "outputs": [
    {
     "name": "stdout",
     "output_type": "stream",
     "text": [
      "Batman\n",
      "Tina Frey\n"
     ]
    }
   ],
   "source": [
    "# Matching multiple groups with pipe (|)\n",
    "heroRegex = re.compile(r'Batman|Tina Frey')\n",
    "mo1 = heroRegex.search(\"Batman and Tina Frey\")\n",
    "mo2 = heroRegex.search(\"Tina Frey and Batman\")\n",
    "print(mo1.group())\n",
    "print(mo2.group())"
   ]
  },
  {
   "cell_type": "code",
   "execution_count": 6,
   "id": "71a93f13-12b4-437c-8d98-9df7404e4c16",
   "metadata": {},
   "outputs": [
    {
     "name": "stdout",
     "output_type": "stream",
     "text": [
      "Batmobile\n",
      "mobile\n"
     ]
    }
   ],
   "source": [
    "# Multiple patterns with pipe and paranthesis\n",
    "batRegex = re.compile(r'Bat(man|mobile|copter|bat)')\n",
    "mo = batRegex.search(\"Batmobile lost a wheel\")\n",
    "print(mo.group())\n",
    "print(mo.group(1))"
   ]
  },
  {
   "cell_type": "code",
   "execution_count": 7,
   "id": "f4521969-21fc-4f71-b62c-a9e486febbe4",
   "metadata": {},
   "outputs": [
    {
     "name": "stdout",
     "output_type": "stream",
     "text": [
      "Batman\n",
      "Batwoman\n",
      "343-464-6343\n",
      "443-6546\n"
     ]
    }
   ],
   "source": [
    "# Optional matching with question mark (?)\n",
    "batRegex = re.compile(r'Bat(wo)?man')\n",
    "mo1 = batRegex.search(\"The Adventures of Batman\")\n",
    "print(mo1.group())\n",
    "mo2 = batRegex.search(\"The Adventures of Batwoman\")\n",
    "print(mo2.group())\n",
    "\n",
    "phoneRegex = re.compile(r'(\\d\\d\\d-)?\\d\\d\\d-\\d\\d\\d\\d')\n",
    "mo1 = phoneRegex.search(\"My number is 343-464-6343\")\n",
    "print(mo1.group())\n",
    "mo2 = phoneRegex.search(\"My number is 443-6546\")\n",
    "print(mo2.group())"
   ]
  },
  {
   "cell_type": "code",
   "execution_count": 8,
   "id": "8ce843c9-e6d3-4eeb-9ad7-ec67ffbbd424",
   "metadata": {},
   "outputs": [
    {
     "name": "stdout",
     "output_type": "stream",
     "text": [
      "Batman\n",
      "Batwoman\n",
      "Batwowowoman\n"
     ]
    }
   ],
   "source": [
    "# Matching zero or more with the star (*)\n",
    "batRegex = re.compile(r'Bat(wo)*man')\n",
    "mo1 = batRegex.search(\"The Adventures of Batman\")\n",
    "print(mo1.group())\n",
    "mo2 = batRegex.search(\"The Adventures of Batwoman\")\n",
    "print(mo2.group())\n",
    "mo3 = batRegex.search(\"The Adventures of Batwowowoman\")\n",
    "print(mo3.group())"
   ]
  },
  {
   "cell_type": "code",
   "execution_count": 9,
   "id": "320392e6-0155-41cf-a133-3f77f599e31c",
   "metadata": {},
   "outputs": [
    {
     "name": "stdout",
     "output_type": "stream",
     "text": [
      "True\n",
      "Batwoman\n",
      "Batwowowoman\n"
     ]
    }
   ],
   "source": [
    "# Matching one or more with the plus (+)\n",
    "batRegex = re.compile(r'Bat(wo)+man')\n",
    "mo1 = batRegex.search(\"The Adventures of Batman\")\n",
    "print(mo1 == None)\n",
    "mo2 = batRegex.search(\"The Adventures of Batwoman\")\n",
    "print(mo2.group())\n",
    "mo3 = batRegex.search(\"The Adventures of Batwowowoman\")\n",
    "print(mo3.group())"
   ]
  },
  {
   "cell_type": "code",
   "execution_count": 10,
   "id": "b39a2bc1-f758-4663-be25-5ea602fdab55",
   "metadata": {},
   "outputs": [
    {
     "name": "stdout",
     "output_type": "stream",
     "text": [
      "HaHaHa\n",
      "HaHaHaHaHa\n",
      "HaHa\n",
      "HaHaHaHaHa\n"
     ]
    }
   ],
   "source": [
    "# Matching specific repitions with braces\n",
    "haRegex = re.compile(r'(Ha){3}') # exactly 3\n",
    "mo = haRegex.search(\"HaHaHa\")\n",
    "print(mo.group())\n",
    "\n",
    "haRegex = re.compile(r'(Ha){3,}') # 3 or more\n",
    "mo = haRegex.search(\"HaHaHaHaHa\")\n",
    "print(mo.group())\n",
    "\n",
    "haRegex = re.compile(r'(Ha){,3}') # 0 to 3\n",
    "mo = haRegex.search(\"HaHa\")\n",
    "print(mo.group())\n",
    "\n",
    "haRegex = re.compile(r'(Ha){3,5}') # 3 to 5\n",
    "mo = haRegex.search(\"HaHaHaHaHaHaHa\")\n",
    "print(mo.group())"
   ]
  },
  {
   "cell_type": "code",
   "execution_count": 11,
   "id": "c65eef71-bebd-4982-9116-a9146459c6f9",
   "metadata": {},
   "outputs": [
    {
     "name": "stdout",
     "output_type": "stream",
     "text": [
      "HaHaHaHaHa\n",
      "HaHaHa\n"
     ]
    }
   ],
   "source": [
    "# Greedy and non-greedy matching\n",
    "greedyHaRegrex = re.compile(r'(Ha){3,5}')\n",
    "mo1 = greedyHaRegrex.search(\"HaHaHaHaHa\")\n",
    "print(mo1.group())\n",
    "\n",
    "nongreedyHaRegex = re.compile(r'(Ha){3,5}?')\n",
    "mo2 = nongreedyHaRegex.search(\"HaHaHaHaHa\")\n",
    "print(mo2.group())\n",
    "\n",
    "# Non-greedy matching and optional group are unrelated functions of ?"
   ]
  },
  {
   "cell_type": "code",
   "execution_count": 12,
   "id": "00d87d69-007d-4c0c-8b98-ff2271d2019c",
   "metadata": {},
   "outputs": [
    {
     "name": "stdout",
     "output_type": "stream",
     "text": [
      "415-544-6545\n",
      "['415-544-6545', '546-654-4636']\n",
      "[('415', '544', '6545'), ('546', '654', '4636')]\n"
     ]
    }
   ],
   "source": [
    "# findall() method\n",
    "phoneNumRegex = re.compile(r'\\d\\d\\d-\\d\\d\\d-\\d\\d\\d\\d')\n",
    "mo = phoneNumRegex.search(\"Cell: 415-544-6545 Work: 546-654-4636\")\n",
    "print(mo.group())\n",
    "print(phoneNumRegex.findall(\"Cell: 415-544-6545 Work: 546-654-4636\"))\n",
    "\n",
    "\n",
    "phoneNumRegex = re.compile(r'(\\d\\d\\d)-(\\d\\d\\d)-(\\d\\d\\d\\d)')\n",
    "print(phoneNumRegex.findall(\"Cell: 415-544-6545 Work: 546-654-4636\"))\n",
    "\n",
    "\n"
   ]
  },
  {
   "cell_type": "code",
   "execution_count": 13,
   "id": "20f8400b-56f4-4095-b562-563f3a634409",
   "metadata": {},
   "outputs": [
    {
     "name": "stdout",
     "output_type": "stream",
     "text": [
      "['12 drummers', '11 pipers', '10 lords', '9 ladies', '8 maids', '7 swans', '6 geese', '5 rings', '4 birds', '3 hens', '2 doves', '1 partridge']\n",
      "['o', 'o', 'o', 'e', 'a', 'a', 'a', 'o', 'o', 'A', 'O', 'O']\n",
      "['R', 'b', 'C', 'p', ' ', 't', 's', ' ', 'l', 'l', ' ', 'b', 'b', 'y', ' ', 'f', 'd', '.', ' ', 'B', 'B', 'Y', ' ', 'F', 'D', '.']\n"
     ]
    }
   ],
   "source": [
    "# ------------------ Character Classes --------------------\n",
    "\n",
    "# Shorthand Character Classes\n",
    "# \\d - digits 0 to 9\n",
    "# \\D - not digits 0 to 9\n",
    "# \\w - letter, numeric digit, or the underscore\n",
    "# \\W - not letter, numeric digit, or the underscore\n",
    "# \\s - space, tab, or newline\n",
    "# \\S - not space, tab, or newline\n",
    "xmasRegex = re.compile(r'\\d+\\s\\w+') # a number followed by space and a word\n",
    "print(xmasRegex.findall('12 drummers, 11 pipers, 10 lords, 9 ladies, 8 maids, 7 swans, 6 geese, 5 rings, 4 birds, 3 hens, 2 doves, 1 partridge'))\n",
    "\n",
    "# User defined character classes []\n",
    "vowelRegex = re.compile(r'[aeiouAEIOU]')\n",
    "print(vowelRegex.findall(\"RoboCop eats all baby food. BABY FOOD.\"))\n",
    "\n",
    "# Ranges with hyphen (-)\n",
    "\n",
    "# negation\n",
    "consonantRegex = re.compile(r'[^aeiouAEIOU]')\n",
    "print(consonantRegex.findall(\"RoboCop eats all baby food. BABY FOOD.\"))\n",
    "\n"
   ]
  },
  {
   "cell_type": "code",
   "execution_count": 14,
   "id": "c20de652-af6e-44a0-8a0e-aa2c28f79a49",
   "metadata": {},
   "outputs": [
    {
     "name": "stdout",
     "output_type": "stream",
     "text": [
      "Hello\n",
      "True\n",
      "3\n",
      "True\n",
      "1234567890\n",
      "True\n",
      "True\n"
     ]
    }
   ],
   "source": [
    "# Caret (^) and dolar ($) sign characters - match at beginning and at end\n",
    "beginsWithHello = re.compile(r'^Hello')\n",
    "mo1 = beginsWithHello.search(\"Hello World\")\n",
    "print(mo1.group())\n",
    "mo2 = beginsWithHello.search(\"Hi said hello\")\n",
    "print(mo2 == None)\n",
    "\n",
    "endsWithNumber = re.compile(r'\\d$')\n",
    "mo1 = endsWithNumber.search(\"Your number is 43\")\n",
    "print(mo1.group())\n",
    "mo2 = endsWithNumber.search(\"Your number is Forty Three\")\n",
    "print(mo2 == None)\n",
    "\n",
    "wholeStringIsNum = re.compile(r'^\\d+$')\n",
    "mo1 = wholeStringIsNum.search('1234567890')\n",
    "print(mo1.group())\n",
    "mo2 = wholeStringIsNum.search('123abc890')\n",
    "print(mo2 == None)\n",
    "mo3 = wholeStringIsNum.search('1234  7890')\n",
    "print(mo3 == None)"
   ]
  },
  {
   "cell_type": "code",
   "execution_count": 15,
   "id": "39483edc-b414-4e4a-8510-9f1223044c30",
   "metadata": {},
   "outputs": [
    {
     "name": "stdout",
     "output_type": "stream",
     "text": [
      "['cat', 'hat', 'sat', 'lat', 'mat']\n",
      "('Gorno', 'Jelovce')\n",
      "<To serve man> for dinner>\n",
      "<To serve man>\n",
      "Serve the public trust.\n",
      "Serve the public trust.\n",
      "Protect the innocent.\n",
      "Uphold the law.\n"
     ]
    }
   ],
   "source": [
    "# Wildcard character (.) - any character except a newline\n",
    "atRegex = re.compile(r'.at')\n",
    "print(atRegex.findall(\"The cat in the hat sat on the flat mat\"))\n",
    "\n",
    "# match everything ( .* )\n",
    "nameRegex = re.compile(r'First Name: (.*) Last Name: (.*)')\n",
    "mo = nameRegex.search(\"First Name: Gorno Last Name: Jelovce\")\n",
    "print(mo.groups())\n",
    "\n",
    "# greedy vs non greedy matching\n",
    "greedyRegex = re.compile(r'<.*>')\n",
    "mo1 = greedyRegex.search(\"<To serve man> for dinner>\")\n",
    "print(mo1.group())\n",
    "\n",
    "nongreedyRegex = re.compile(r'<.*?>')\n",
    "mo2 = nongreedyRegex.search(\"<To serve man> for dinner>\")\n",
    "print(mo2.group())\n",
    "\n",
    "# matching newlines with dot character\n",
    "noNewlineRegex = re.compile('.*')\n",
    "mo1 = noNewlineRegex.search('Serve the public trust.\\nProtect the innocent.\\nUphold the law.')\n",
    "print(mo1.group())\n",
    "\n",
    "newlineRegex = re.compile('.*', re.DOTALL)\n",
    "mo2 = newlineRegex.search('Serve the public trust.\\nProtect the innocent.\\nUphold the law.')\n",
    "print(mo2.group())"
   ]
  },
  {
   "cell_type": "code",
   "execution_count": 16,
   "id": "321a2be1-f90e-47f1-ba30-1e614dee30c6",
   "metadata": {},
   "outputs": [
    {
     "name": "stdout",
     "output_type": "stream",
     "text": [
      "RoboCop\n",
      "ROBOCOP\n",
      "robocop\n"
     ]
    }
   ],
   "source": [
    "# Case-insensitive matching\n",
    "robocop = re.compile(r'robocop', re.I)\n",
    "mo1 = robocop.search(\"RoboCop is part man, part machine, all cop.\")\n",
    "print(mo1.group())\n",
    "mo2 = robocop.search(\"ROBOCOP protects the innocent.\")\n",
    "print(mo2.group())\n",
    "mo3 = robocop.search(\"Al, why does your programming book talk about robocop so much?\")\n",
    "print(mo3.group())"
   ]
  },
  {
   "cell_type": "code",
   "execution_count": 17,
   "id": "09ace9b7-8250-47bc-ac2e-d98835393058",
   "metadata": {},
   "outputs": [
    {
     "name": "stdout",
     "output_type": "stream",
     "text": [
      "CENSORED gave the secret document to CENSORED\n",
      "A**** told C**** that E**** knew that B**** was a double agent.\n"
     ]
    }
   ],
   "source": [
    "# Substituting strings with the sub() method\n",
    "namesRegex = re.compile(r'Agent \\w+')\n",
    "print(namesRegex.sub('CENSORED', 'Agent Alice gave the secret document to Agent Bob'))\n",
    "\n",
    "agentNamesRegex = re.compile(r'Agent (\\w)\\w*')\n",
    "print(agentNamesRegex.sub(r'\\1****', 'Agent Alice told Agent Carol that Agent Eve knew that Agent Bob was a double agent.'))"
   ]
  },
  {
   "cell_type": "code",
   "execution_count": 18,
   "id": "9b752033-5e5d-4b9f-9482-8798ae971dd4",
   "metadata": {},
   "outputs": [],
   "source": [
    "# ----------------- Managing Complex Regexex -----------------\n",
    "# without newline and comments\n",
    "phoneRegex = re.compile(r'((\\d{3}|\\(\\d{3}\\))?(\\s|-|\\.)?\\d{3}(\\s|-|\\.)\\d{4}(\\s*(ext|x|ext.)\\s*\\d{2,5})?)')\n",
    "# with newline and comments\n",
    "phoneRegex = re.compile(r'''\n",
    "    (\\d{3}|\\(\\d{3}\\))?            # area code\n",
    "    (\\s|-|\\.)?                    # saperator\n",
    "    \\d{3}                         # first 3 digits\n",
    "    (\\s|-|\\.)                     # saperator\n",
    "    \\d{4}                         # last 4 digits\n",
    "    (\\s*(ext|x|ext.)\\s*\\d{2,5})?  # extension\n",
    "''', re.VERBOSE)"
   ]
  },
  {
   "cell_type": "code",
   "execution_count": 19,
   "id": "031e5d99-a319-438c-8633-70fb9907dca9",
   "metadata": {},
   "outputs": [],
   "source": [
    "# Combining re.IGNORECASE, re.DOTALL, re.VERBOSE (|)\n",
    "someRegex = re.compile('foo', re.IGNORECASE | re.DOTALL | re.VERBOSE)"
   ]
  },
  {
   "cell_type": "code",
   "execution_count": 45,
   "id": "548dcfeb",
   "metadata": {},
   "outputs": [],
   "source": [
    "# How would you write a regex that matches a number with commas for every three digits?\n",
    "numRegex = re.compile(r'^\\d{1,3}(,\\d{3})*$')\n",
    "while num:=input():\n",
    "    mo = numRegex.search(num)\n",
    "    if mo:\n",
    "        print(mo.group())"
   ]
  },
  {
   "cell_type": "code",
   "execution_count": 47,
   "id": "8d8dcb70-fadd-4b8f-8633-066551f4f608",
   "metadata": {},
   "outputs": [],
   "source": [
    "# How would you write a regex that matches the full name of someone whose last name is Watanabe? You can assume that the first name that comes before it will always be one word that begins with a capital letter.\n",
    "nameRegex = re.compile(r'[A-Z][A-Za-z]* Watanabe')"
   ]
  },
  {
   "cell_type": "code",
   "execution_count": 57,
   "id": "9274bd10-2f43-4f52-a548-36d26e6daabe",
   "metadata": {},
   "outputs": [],
   "source": [
    "# How would you write a regex that matches a sentence where the first word\n",
    "# is either Alice, Bob, or Carol; the second word is either eats, pets, or throws;\n",
    "# the third word is apples, cats, or baseballs; and the sentence ends with a\n",
    "# period? This regex should be case-insensitive. \n",
    "sentenceRegex = re.compile(r'(Alice|Bob|Carol) (eats|pets|throws) (apple|cats|baseballs).', re.IGNORECASE)"
   ]
  },
  {
   "cell_type": "code",
   "execution_count": 60,
   "id": "9e7cdeeb-f1c8-434f-8aca-9a298a6fb191",
   "metadata": {},
   "outputs": [],
   "source": []
  },
  {
   "cell_type": "code",
   "execution_count": null,
   "id": "a74f70e5-3a79-4bfe-9a6a-4819fd15179e",
   "metadata": {},
   "outputs": [],
   "source": []
  }
 ],
 "metadata": {
  "kernelspec": {
   "display_name": "Python 3 (ipykernel)",
   "language": "python",
   "name": "python3"
  },
  "language_info": {
   "codemirror_mode": {
    "name": "ipython",
    "version": 3
   },
   "file_extension": ".py",
   "mimetype": "text/x-python",
   "name": "python",
   "nbconvert_exporter": "python",
   "pygments_lexer": "ipython3",
   "version": "3.10.12"
  }
 },
 "nbformat": 4,
 "nbformat_minor": 5
}
