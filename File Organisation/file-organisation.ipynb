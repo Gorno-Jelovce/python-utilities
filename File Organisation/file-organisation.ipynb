{
 "cells": [
  {
   "cell_type": "code",
   "execution_count": 15,
   "id": "dbe88e92-60d7-4cad-ad3f-0911ea16e3a6",
   "metadata": {},
   "outputs": [],
   "source": [
    "#shutil module (shell utilities)\n",
    "import shutil\n",
    "from pathlib import Path\n",
    "import os"
   ]
  },
  {
   "cell_type": "code",
   "execution_count": 17,
   "id": "99f9ca34-763c-451e-9afe-00d33333ae6c",
   "metadata": {},
   "outputs": [],
   "source": [
    "# Copying and moving files\n",
    "\n",
    "# If destianation is a directory it must exist\n",
    "# shutil.copy(source, destination) # If destianation is a file name it is used as the new name for the file\n",
    "\n",
    "# p = Path.cwd()\n",
    "# shutil.copy(p / 'bacon.txt', p / 'new_folder')\n",
    "\n",
    "# shutil.copytree(source, destination)\n",
    "\n",
    "# shutil.move(source, destination)"
   ]
  },
  {
   "cell_type": "code",
   "execution_count": 18,
   "id": "94b9ae9f-037b-4375-aff4-690197df1cea",
   "metadata": {},
   "outputs": [],
   "source": [
    "# Permanently deleting files and folders\n",
    "# os.unlink(path) # delete the file at path\n",
    "# os.rmdir(path) # delete the (empty) folder at path\n",
    "# shutil.rmtree(path) # remove the folder at path with all the files and folders it contains"
   ]
  },
  {
   "cell_type": "code",
   "execution_count": 23,
   "id": "427a2c1b-7cac-45d0-8fc4-431ec5bbb71d",
   "metadata": {},
   "outputs": [],
   "source": [
    "# safe delete with send2trash (3rd party)\n",
    "import send2trash\n",
    "baconFile = open('bacon.txt','w')\n",
    "baconFile.write(\"Bacon is not a vegetable\")\n",
    "baconFile.close()\n",
    "send2trash.send2trash('bacon.txt')"
   ]
  },
  {
   "cell_type": "code",
   "execution_count": 36,
   "id": "0c7b84fe-a518-40fc-bf16-841e9eedcae0",
   "metadata": {},
   "outputs": [
    {
     "name": "stdout",
     "output_type": "stream",
     "text": [
      "The current folder is /home/sumit/Dev/Python/python-utilities/File Organisation/delicious\n",
      "SUBFOLDER OF /home/sumit/Dev/Python/python-utilities/File Organisation/delicious : walnut\n",
      "SUBFOLDER OF /home/sumit/Dev/Python/python-utilities/File Organisation/delicious : cats\n",
      "FILE INSIDE /home/sumit/Dev/Python/python-utilities/File Organisation/delicious : spam.txt\n",
      " \n",
      "The current folder is /home/sumit/Dev/Python/python-utilities/File Organisation/delicious/walnut\n",
      "SUBFOLDER OF /home/sumit/Dev/Python/python-utilities/File Organisation/delicious/walnut : waffles\n",
      " \n",
      "The current folder is /home/sumit/Dev/Python/python-utilities/File Organisation/delicious/walnut/waffles\n",
      "FILE INSIDE /home/sumit/Dev/Python/python-utilities/File Organisation/delicious/walnut/waffles : butter.txt\n",
      " \n",
      "The current folder is /home/sumit/Dev/Python/python-utilities/File Organisation/delicious/cats\n",
      "FILE INSIDE /home/sumit/Dev/Python/python-utilities/File Organisation/delicious/cats : zophie.jpg\n",
      "FILE INSIDE /home/sumit/Dev/Python/python-utilities/File Organisation/delicious/cats : catnames.txt\n",
      " \n"
     ]
    }
   ],
   "source": [
    "# Walking a subdirectory tree\n",
    "for folderName, subfolders, filenames in os.walk(Path.cwd() / Path('delicious')):\n",
    "    print(\"The current folder is\",folderName)\n",
    "\n",
    "    for subfolder in subfolders:\n",
    "        print(\"SUBFOLDER OF\",folderName,\":\",subfolder)\n",
    "\n",
    "    for filename in filenames:\n",
    "        print(\"FILE INSIDE\", folderName,\":\",filename)\n",
    "\n",
    "    print(' ')"
   ]
  },
  {
   "cell_type": "code",
   "execution_count": 46,
   "id": "a90faff5-966d-449c-a6e0-c3a7bc5f296c",
   "metadata": {},
   "outputs": [],
   "source": [
    "# Compressing files\n",
    "import zipfile"
   ]
  },
  {
   "cell_type": "code",
   "execution_count": 47,
   "id": "6cfc4c4e-e563-4531-a2e6-3d66808ab25f",
   "metadata": {},
   "outputs": [
    {
     "name": "stdout",
     "output_type": "stream",
     "text": [
      "['spam.txt', 'cats/', 'cats/catnames.txt', 'cats/zophie.jpg']\n",
      "13908\n",
      "3828\n",
      "Compressed file is 3.63x smaller!\n"
     ]
    }
   ],
   "source": [
    "# get information about files of a zip file\n",
    "exampleZip = zipfile.ZipFile(Path.cwd() / 'example.zip')\n",
    "print(exampleZip.namelist())\n",
    "spamInfo = exampleZip.getinfo('spam.txt')\n",
    "print(spamInfo.file_size)\n",
    "print(spamInfo.compress_size)\n",
    "print(f'Compressed file is {round(spamInfo.file_size/spamInfo.compress_size, 2)}x smaller!')\n",
    "exampleZip.close()"
   ]
  },
  {
   "cell_type": "code",
   "execution_count": 50,
   "id": "e10cba1d-9fd8-4f5e-a685-5d4c4ea0b0cc",
   "metadata": {},
   "outputs": [],
   "source": [
    "# extracting from zip files\n",
    "exampleZip = zipfile.ZipFile(Path.cwd() / 'example.zip')\n",
    "exampleZip.extractall(Path.cwd() / 'delicious') # if nothing is passed extracted to current working directory\n",
    "# exampleZip.extract(file,directory) # extracts a single to the the directory, if directory is not given extracts to root folder\n",
    "exampleZip.close()"
   ]
  },
  {
   "cell_type": "code",
   "execution_count": 51,
   "id": "d9f48cca-6195-4467-8121-5f1000bdfcfb",
   "metadata": {},
   "outputs": [],
   "source": [
    "# creating zip files\n",
    "newZip = zipfile.ZipFile('new.zip','w')\n",
    "newZip.write('spam.txt',compress_type=zipfile.ZIP_DEFLATED)\n",
    "newZip.close()"
   ]
  },
  {
   "cell_type": "code",
   "execution_count": 52,
   "id": "9fb69a5c-5313-418f-9a4e-981cacd34761",
   "metadata": {},
   "outputs": [],
   "source": [
    "# adding files to zip files\n",
    "newZip = zipfile.ZipFile('new.zip','a')\n",
    "# newZip.write('spam.txt',compress_type=zipfile.ZIP_DEFLATED)\n",
    "newZip.close()"
   ]
  },
  {
   "cell_type": "code",
   "execution_count": null,
   "id": "423827ff-f65f-40cf-bbd2-8b40461d265f",
   "metadata": {},
   "outputs": [],
   "source": []
  }
 ],
 "metadata": {
  "kernelspec": {
   "display_name": "Python 3 (ipykernel)",
   "language": "python",
   "name": "python3"
  },
  "language_info": {
   "codemirror_mode": {
    "name": "ipython",
    "version": 3
   },
   "file_extension": ".py",
   "mimetype": "text/x-python",
   "name": "python",
   "nbconvert_exporter": "python",
   "pygments_lexer": "ipython3",
   "version": "3.10.12"
  }
 },
 "nbformat": 4,
 "nbformat_minor": 5
}
