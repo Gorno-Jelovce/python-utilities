{
 "cells": [
  {
   "cell_type": "code",
   "execution_count": 2,
   "id": "ccac0505-64c3-4ea5-9e60-e6a9b8b333ad",
   "metadata": {},
   "outputs": [],
   "source": [
    "# PyInputPlus module\n",
    "import pyinputplus as pyip"
   ]
  },
  {
   "cell_type": "code",
   "execution_count": 3,
   "id": "1ed0bf13-4256-4994-a1dd-ee4a5e15c2f3",
   "metadata": {},
   "outputs": [
    {
     "name": "stdin",
     "output_type": "stream",
     "text": [
      " \n"
     ]
    },
    {
     "name": "stdout",
     "output_type": "stream",
     "text": [
      "Blank values are not allowed.\n"
     ]
    },
    {
     "name": "stdin",
     "output_type": "stream",
     "text": [
      " d\n"
     ]
    },
    {
     "data": {
      "text/plain": [
       "'d'"
      ]
     },
     "execution_count": 3,
     "metadata": {},
     "output_type": "execute_result"
    }
   ],
   "source": [
    "pyip.inputStr()"
   ]
  },
  {
   "cell_type": "code",
   "execution_count": 4,
   "id": "71291cef-7fcd-4829-a767-0a7e41ab513c",
   "metadata": {},
   "outputs": [
    {
     "name": "stdin",
     "output_type": "stream",
     "text": [
      " 3\n"
     ]
    },
    {
     "data": {
      "text/plain": [
       "3"
      ]
     },
     "execution_count": 4,
     "metadata": {},
     "output_type": "execute_result"
    }
   ],
   "source": [
    "pyip.inputNum()"
   ]
  },
  {
   "cell_type": "code",
   "execution_count": 5,
   "id": "aa1e3c1e-4498-41c7-9c7f-0edb820acf3e",
   "metadata": {},
   "outputs": [
    {
     "name": "stdout",
     "output_type": "stream",
     "text": [
      "Please select one of: apple, orange\n"
     ]
    },
    {
     "name": "stdin",
     "output_type": "stream",
     "text": [
      " apple\n"
     ]
    },
    {
     "data": {
      "text/plain": [
       "'apple'"
      ]
     },
     "execution_count": 5,
     "metadata": {},
     "output_type": "execute_result"
    }
   ],
   "source": [
    "pyip.inputChoice((\"apple\",\"orange\"))"
   ]
  },
  {
   "cell_type": "code",
   "execution_count": 6,
   "id": "0665c75a-b345-44c1-841c-39b32133a097",
   "metadata": {},
   "outputs": [
    {
     "name": "stdout",
     "output_type": "stream",
     "text": [
      "Please select one of the following:\n",
      "1. apple\n",
      "2. orange\n"
     ]
    },
    {
     "name": "stdin",
     "output_type": "stream",
     "text": [
      " 2\n"
     ]
    },
    {
     "data": {
      "text/plain": [
       "'orange'"
      ]
     },
     "execution_count": 6,
     "metadata": {},
     "output_type": "execute_result"
    }
   ],
   "source": [
    "pyip.inputMenu((\"apple\",\"orange\"),numbered=True)"
   ]
  },
  {
   "cell_type": "code",
   "execution_count": 7,
   "id": "6f3a6521-a261-4cfd-8e65-3a55fedb5a68",
   "metadata": {},
   "outputs": [
    {
     "name": "stdin",
     "output_type": "stream",
     "text": [
      " 12/10/2002 13:43\n"
     ]
    },
    {
     "data": {
      "text/plain": [
       "datetime.datetime(2002, 12, 10, 13, 43)"
      ]
     },
     "execution_count": 7,
     "metadata": {},
     "output_type": "execute_result"
    }
   ],
   "source": [
    "pyip.inputDatetime()"
   ]
  },
  {
   "cell_type": "code",
   "execution_count": 8,
   "id": "24cfb2c6-8b5a-465d-adff-3caa2d625c36",
   "metadata": {},
   "outputs": [
    {
     "name": "stdin",
     "output_type": "stream",
     "text": [
      " Y\n"
     ]
    },
    {
     "data": {
      "text/plain": [
       "'yes'"
      ]
     },
     "execution_count": 8,
     "metadata": {},
     "output_type": "execute_result"
    }
   ],
   "source": [
    "pyip.inputYesNo()"
   ]
  },
  {
   "cell_type": "code",
   "execution_count": 9,
   "id": "3c18dfdf-b41c-4bf6-85cb-7f183592b1b7",
   "metadata": {},
   "outputs": [
    {
     "name": "stdin",
     "output_type": "stream",
     "text": [
      " \n"
     ]
    },
    {
     "name": "stdout",
     "output_type": "stream",
     "text": [
      "Blank values are not allowed.\n"
     ]
    },
    {
     "name": "stdin",
     "output_type": "stream",
     "text": [
      " 3\n"
     ]
    },
    {
     "name": "stdout",
     "output_type": "stream",
     "text": [
      "'3' is not a valid True/False response.\n"
     ]
    },
    {
     "name": "stdin",
     "output_type": "stream",
     "text": [
      " Tr\n"
     ]
    },
    {
     "name": "stdout",
     "output_type": "stream",
     "text": [
      "'Tr' is not a valid True/False response.\n"
     ]
    },
    {
     "name": "stdin",
     "output_type": "stream",
     "text": [
      " T\n"
     ]
    },
    {
     "data": {
      "text/plain": [
       "True"
      ]
     },
     "execution_count": 9,
     "metadata": {},
     "output_type": "execute_result"
    }
   ],
   "source": [
    "pyip.inputBool()"
   ]
  },
  {
   "cell_type": "code",
   "execution_count": 10,
   "id": "f1eec6c6-b694-4511-a4b0-81487c3ed909",
   "metadata": {},
   "outputs": [
    {
     "name": "stdin",
     "output_type": "stream",
     "text": [
      " abc.fe3@gm.c\n"
     ]
    },
    {
     "data": {
      "text/plain": [
       "'abc.fe3@gm.c'"
      ]
     },
     "execution_count": 10,
     "metadata": {},
     "output_type": "execute_result"
    }
   ],
   "source": [
    "pyip.inputEmail()"
   ]
  },
  {
   "cell_type": "code",
   "execution_count": 11,
   "id": "1bff08cd-5594-4223-8418-1cf8c9ad734d",
   "metadata": {},
   "outputs": [
    {
     "name": "stdin",
     "output_type": "stream",
     "text": [
      " abc/xyz/file.de\n"
     ]
    },
    {
     "data": {
      "text/plain": [
       "'abc/xyz/file.de'"
      ]
     },
     "execution_count": 11,
     "metadata": {},
     "output_type": "execute_result"
    }
   ],
   "source": [
    "pyip.inputFilepath()"
   ]
  },
  {
   "cell_type": "code",
   "execution_count": 12,
   "id": "329696f5-5f60-4159-826d-3e631ab6ba1e",
   "metadata": {},
   "outputs": [
    {
     "ename": "error",
     "evalue": "(25, 'Inappropriate ioctl for device')",
     "output_type": "error",
     "traceback": [
      "\u001b[0;31m---------------------------------------------------------------------------\u001b[0m",
      "\u001b[0;31merror\u001b[0m                                     Traceback (most recent call last)",
      "\u001b[0;32m/tmp/ipykernel_2054/2368351021.py\u001b[0m in \u001b[0;36m<module>\u001b[0;34m\u001b[0m\n\u001b[0;32m----> 1\u001b[0;31m \u001b[0mpyip\u001b[0m\u001b[0;34m.\u001b[0m\u001b[0minputPassword\u001b[0m\u001b[0;34m(\u001b[0m\u001b[0;34m)\u001b[0m \u001b[0;31m# does not work in jupyter notebook\u001b[0m\u001b[0;34m\u001b[0m\u001b[0;34m\u001b[0m\u001b[0m\n\u001b[0m",
      "\u001b[0;32m~/.local/lib/python3.10/site-packages/pyinputplus/__init__.py\u001b[0m in \u001b[0;36minputPassword\u001b[0;34m(prompt, mask, default, blank, timeout, limit, strip, allowRegexes, blockRegexes, applyFunc, postValidateApplyFunc)\u001b[0m\n\u001b[1;32m   1699\u001b[0m     )[1]\n\u001b[1;32m   1700\u001b[0m \u001b[0;34m\u001b[0m\u001b[0m\n\u001b[0;32m-> 1701\u001b[0;31m     return _genericInput(\n\u001b[0m\u001b[1;32m   1702\u001b[0m         \u001b[0mprompt\u001b[0m\u001b[0;34m=\u001b[0m\u001b[0mprompt\u001b[0m\u001b[0;34m,\u001b[0m\u001b[0;34m\u001b[0m\u001b[0;34m\u001b[0m\u001b[0m\n\u001b[1;32m   1703\u001b[0m         \u001b[0mdefault\u001b[0m\u001b[0;34m=\u001b[0m\u001b[0mdefault\u001b[0m\u001b[0;34m,\u001b[0m\u001b[0;34m\u001b[0m\u001b[0;34m\u001b[0m\u001b[0m\n",
      "\u001b[0;32m~/.local/lib/python3.10/site-packages/pyinputplus/__init__.py\u001b[0m in \u001b[0;36m_genericInput\u001b[0;34m(prompt, default, timeout, limit, applyFunc, validationFunc, postValidateApplyFunc, passwordMask)\u001b[0m\n\u001b[1;32m    156\u001b[0m             \u001b[0muserInput\u001b[0m \u001b[0;34m=\u001b[0m \u001b[0minput\u001b[0m\u001b[0;34m(\u001b[0m\u001b[0;34m)\u001b[0m\u001b[0;34m\u001b[0m\u001b[0;34m\u001b[0m\u001b[0m\n\u001b[1;32m    157\u001b[0m         \u001b[0;32melse\u001b[0m\u001b[0;34m:\u001b[0m\u001b[0;34m\u001b[0m\u001b[0;34m\u001b[0m\u001b[0m\n\u001b[0;32m--> 158\u001b[0;31m             \u001b[0muserInput\u001b[0m \u001b[0;34m=\u001b[0m \u001b[0mstdiomask\u001b[0m\u001b[0;34m.\u001b[0m\u001b[0mgetpass\u001b[0m\u001b[0;34m(\u001b[0m\u001b[0mprompt\u001b[0m\u001b[0;34m=\u001b[0m\u001b[0;34m\"\"\u001b[0m\u001b[0;34m,\u001b[0m \u001b[0mmask\u001b[0m\u001b[0;34m=\u001b[0m\u001b[0mpasswordMask\u001b[0m\u001b[0;34m)\u001b[0m\u001b[0;34m\u001b[0m\u001b[0;34m\u001b[0m\u001b[0m\n\u001b[0m\u001b[1;32m    159\u001b[0m         \u001b[0mtries\u001b[0m \u001b[0;34m+=\u001b[0m \u001b[0;36m1\u001b[0m\u001b[0;34m\u001b[0m\u001b[0;34m\u001b[0m\u001b[0m\n\u001b[1;32m    160\u001b[0m \u001b[0;34m\u001b[0m\u001b[0m\n",
      "\u001b[0;32m~/.local/lib/python3.10/site-packages/stdiomask/__init__.py\u001b[0m in \u001b[0;36mgetpass\u001b[0;34m(prompt, mask)\u001b[0m\n\u001b[1;32m    125\u001b[0m         \u001b[0msys\u001b[0m\u001b[0;34m.\u001b[0m\u001b[0mstdout\u001b[0m\u001b[0;34m.\u001b[0m\u001b[0mflush\u001b[0m\u001b[0;34m(\u001b[0m\u001b[0;34m)\u001b[0m\u001b[0;34m\u001b[0m\u001b[0;34m\u001b[0m\u001b[0m\n\u001b[1;32m    126\u001b[0m         \u001b[0;32mwhile\u001b[0m \u001b[0;32mTrue\u001b[0m\u001b[0;34m:\u001b[0m\u001b[0;34m\u001b[0m\u001b[0;34m\u001b[0m\u001b[0m\n\u001b[0;32m--> 127\u001b[0;31m             \u001b[0mkey\u001b[0m \u001b[0;34m=\u001b[0m \u001b[0mord\u001b[0m\u001b[0;34m(\u001b[0m\u001b[0mgetch\u001b[0m\u001b[0;34m(\u001b[0m\u001b[0;34m)\u001b[0m\u001b[0;34m)\u001b[0m\u001b[0;34m\u001b[0m\u001b[0;34m\u001b[0m\u001b[0m\n\u001b[0m\u001b[1;32m    128\u001b[0m             \u001b[0;32mif\u001b[0m \u001b[0mkey\u001b[0m \u001b[0;34m==\u001b[0m \u001b[0;36m13\u001b[0m\u001b[0;34m:\u001b[0m \u001b[0;31m# Enter key pressed.\u001b[0m\u001b[0;34m\u001b[0m\u001b[0;34m\u001b[0m\u001b[0m\n\u001b[1;32m    129\u001b[0m                 \u001b[0;32mif\u001b[0m \u001b[0mRUNNING_PYTHON_2\u001b[0m\u001b[0;34m:\u001b[0m\u001b[0;34m\u001b[0m\u001b[0;34m\u001b[0m\u001b[0m\n",
      "\u001b[0;32m~/.local/lib/python3.10/site-packages/stdiomask/__init__.py\u001b[0m in \u001b[0;36mgetch\u001b[0;34m()\u001b[0m\n\u001b[1;32m     89\u001b[0m         \u001b[0;31m# type: () -> str\u001b[0m\u001b[0;34m\u001b[0m\u001b[0;34m\u001b[0m\u001b[0m\n\u001b[1;32m     90\u001b[0m         \u001b[0mfd\u001b[0m \u001b[0;34m=\u001b[0m \u001b[0msys\u001b[0m\u001b[0;34m.\u001b[0m\u001b[0mstdin\u001b[0m\u001b[0;34m.\u001b[0m\u001b[0mfileno\u001b[0m\u001b[0;34m(\u001b[0m\u001b[0;34m)\u001b[0m\u001b[0;34m\u001b[0m\u001b[0;34m\u001b[0m\u001b[0m\n\u001b[0;32m---> 91\u001b[0;31m         \u001b[0mold_settings\u001b[0m \u001b[0;34m=\u001b[0m \u001b[0mtermios\u001b[0m\u001b[0;34m.\u001b[0m\u001b[0mtcgetattr\u001b[0m\u001b[0;34m(\u001b[0m\u001b[0mfd\u001b[0m\u001b[0;34m)\u001b[0m\u001b[0;34m\u001b[0m\u001b[0;34m\u001b[0m\u001b[0m\n\u001b[0m\u001b[1;32m     92\u001b[0m         \u001b[0;32mtry\u001b[0m\u001b[0;34m:\u001b[0m\u001b[0;34m\u001b[0m\u001b[0;34m\u001b[0m\u001b[0m\n\u001b[1;32m     93\u001b[0m             \u001b[0mtty\u001b[0m\u001b[0;34m.\u001b[0m\u001b[0msetraw\u001b[0m\u001b[0;34m(\u001b[0m\u001b[0msys\u001b[0m\u001b[0;34m.\u001b[0m\u001b[0mstdin\u001b[0m\u001b[0;34m.\u001b[0m\u001b[0mfileno\u001b[0m\u001b[0;34m(\u001b[0m\u001b[0;34m)\u001b[0m\u001b[0;34m)\u001b[0m\u001b[0;34m\u001b[0m\u001b[0;34m\u001b[0m\u001b[0m\n",
      "\u001b[0;31merror\u001b[0m: (25, 'Inappropriate ioctl for device')"
     ]
    }
   ],
   "source": [
    "pyip.inputPassword() # does not work in jupyter notebook"
   ]
  },
  {
   "cell_type": "code",
   "execution_count": 16,
   "id": "65aa51ca-a0aa-42d9-a3b7-36db71d7caa0",
   "metadata": {},
   "outputs": [
    {
     "name": "stdout",
     "output_type": "stream",
     "text": [
      "Enter a name"
     ]
    },
    {
     "name": "stdin",
     "output_type": "stream",
     "text": [
      " sien\n"
     ]
    },
    {
     "name": "stdout",
     "output_type": "stream",
     "text": [
      "Enter a number"
     ]
    },
    {
     "name": "stdin",
     "output_type": "stream",
     "text": [
      " 3\n"
     ]
    },
    {
     "name": "stdout",
     "output_type": "stream",
     "text": [
      "Number must be at minimum 4.\n",
      "Enter a number"
     ]
    },
    {
     "name": "stdin",
     "output_type": "stream",
     "text": [
      " 5\n"
     ]
    },
    {
     "name": "stdout",
     "output_type": "stream",
     "text": [
      "Enter a number"
     ]
    },
    {
     "name": "stdin",
     "output_type": "stream",
     "text": [
      " 4\n"
     ]
    },
    {
     "name": "stdout",
     "output_type": "stream",
     "text": [
      "Number must be greater than 4.\n",
      "Enter a number"
     ]
    },
    {
     "name": "stdin",
     "output_type": "stream",
     "text": [
      " 7\n"
     ]
    },
    {
     "name": "stdout",
     "output_type": "stream",
     "text": [
      "Enter a number"
     ]
    },
    {
     "name": "stdin",
     "output_type": "stream",
     "text": [
      " 8\n"
     ]
    },
    {
     "name": "stdout",
     "output_type": "stream",
     "text": [
      "Number must be less than 6.\n",
      "Enter a number"
     ]
    },
    {
     "name": "stdin",
     "output_type": "stream",
     "text": [
      " 0\n"
     ]
    },
    {
     "name": "stdout",
     "output_type": "stream",
     "text": [
      "Number must be at minimum 4.\n",
      "Enter a number"
     ]
    },
    {
     "name": "stdin",
     "output_type": "stream",
     "text": [
      " 5\n"
     ]
    },
    {
     "name": "stdout",
     "output_type": "stream",
     "text": [
      "Enter a number"
     ]
    },
    {
     "name": "stdin",
     "output_type": "stream",
     "text": [
      " \n"
     ]
    },
    {
     "name": "stdout",
     "output_type": "stream",
     "text": [
      "Blank values are not allowed.\n",
      "Enter a number"
     ]
    },
    {
     "name": "stdin",
     "output_type": "stream",
     "text": [
      " 4\n"
     ]
    },
    {
     "name": "stdout",
     "output_type": "stream",
     "text": [
      "Enter a number"
     ]
    },
    {
     "name": "stdin",
     "output_type": "stream",
     "text": [
      " \n"
     ]
    },
    {
     "data": {
      "text/plain": [
       "''"
      ]
     },
     "execution_count": 16,
     "metadata": {},
     "output_type": "execute_result"
    }
   ],
   "source": [
    "# Keyword Arguments\n",
    "\n",
    "# prompt\n",
    "pyip.inputStr(prompt=\"Enter a name\")\n",
    "\n",
    "# min, max, greaterThan, lessThan\n",
    "pyip.inputNum(prompt=\"Enter a number\",min=4)\n",
    "pyip.inputNum(prompt=\"Enter a number\",greaterThan=4)\n",
    "pyip.inputNum('Enter a number', min=4, lessThan=6)\n",
    "\n",
    "# blank\n",
    "pyip.inputNum(\"Enter a number\")\n",
    "pyip.inputNum(\"Enter a number\", blank=True)"
   ]
  },
  {
   "cell_type": "code",
   "execution_count": 25,
   "id": "d8b5fb23-4afc-41e3-92dd-7e26173141b0",
   "metadata": {},
   "outputs": [
    {
     "name": "stdout",
     "output_type": "stream",
     "text": [
      "Enter a number"
     ]
    },
    {
     "name": "stdin",
     "output_type": "stream",
     "text": [
      " 3\n"
     ]
    },
    {
     "name": "stdout",
     "output_type": "stream",
     "text": [
      "Enter a number"
     ]
    },
    {
     "name": "stdin",
     "output_type": "stream",
     "text": [
      " 6\n"
     ]
    },
    {
     "name": "stdout",
     "output_type": "stream",
     "text": [
      "Enter a number"
     ]
    },
    {
     "name": "stdin",
     "output_type": "stream",
     "text": [
      " f\n"
     ]
    },
    {
     "name": "stdout",
     "output_type": "stream",
     "text": [
      "'f' is not a number.\n",
      "Enter a number"
     ]
    },
    {
     "name": "stdin",
     "output_type": "stream",
     "text": [
      " d\n"
     ]
    },
    {
     "name": "stdout",
     "output_type": "stream",
     "text": [
      "'d' is not a number.\n",
      "Enter a number"
     ]
    },
    {
     "name": "stdin",
     "output_type": "stream",
     "text": [
      " d\n"
     ]
    },
    {
     "name": "stdout",
     "output_type": "stream",
     "text": [
      "'d' is not a number.\n",
      "Enter a number"
     ]
    },
    {
     "name": "stdin",
     "output_type": "stream",
     "text": [
      " d\n"
     ]
    },
    {
     "name": "stdout",
     "output_type": "stream",
     "text": [
      "'d' is not a number.\n"
     ]
    },
    {
     "data": {
      "text/plain": [
       "'N/A'"
      ]
     },
     "execution_count": 25,
     "metadata": {},
     "output_type": "execute_result"
    }
   ],
   "source": [
    "# limit, timeout, default\n",
    "pyip.inputNum(\"Enter a number\", limit=2)    # RetryLimitException\n",
    "pyip.inputNum(\"Enter a number\", timeout=2)  # TimeoutException\n",
    "pyip.inputNum(\"Enter a number\", limit=4, default=\"N/A\")"
   ]
  },
  {
   "cell_type": "code",
   "execution_count": 32,
   "id": "f531e954-d047-4658-9b1a-e8d4100a8c49",
   "metadata": {},
   "outputs": [
    {
     "name": "stdout",
     "output_type": "stream",
     "text": [
      "Enter a number"
     ]
    },
    {
     "name": "stdin",
     "output_type": "stream",
     "text": [
      " 34\n"
     ]
    },
    {
     "name": "stdout",
     "output_type": "stream",
     "text": [
      "Enter an odd number"
     ]
    },
    {
     "name": "stdin",
     "output_type": "stream",
     "text": [
      " 2\n"
     ]
    },
    {
     "name": "stdout",
     "output_type": "stream",
     "text": [
      "This response is invalid.\n",
      "Enter an odd number"
     ]
    },
    {
     "name": "stdin",
     "output_type": "stream",
     "text": [
      " 3\n",
      " fishcat\n"
     ]
    },
    {
     "name": "stdout",
     "output_type": "stream",
     "text": [
      "This response is invalid.\n"
     ]
    },
    {
     "name": "stdin",
     "output_type": "stream",
     "text": [
      " caterpillar\n"
     ]
    },
    {
     "data": {
      "text/plain": [
       "'caterpillar'"
      ]
     },
     "execution_count": 32,
     "metadata": {},
     "output_type": "execute_result"
    }
   ],
   "source": [
    "# allowRegexes, blockRegexes\n",
    "pyip.inputNum(\"Enter a number\", allowRegexes=[r'(I|V|X|L|C|D|M)+', r'zero']) # also accepts roman numerals\n",
    "pyip.inputNum(\"Enter an odd number\", blockRegexes=[r'[02468]$']) # does not accept even numbers\n",
    "pyip.inputStr(allowRegexes=[r'caterpillar',r'category'], blockRegexes=[r'cat'])"
   ]
  },
  {
   "cell_type": "code",
   "execution_count": 34,
   "id": "b18bce15-f4be-4b2b-ba73-ee3d65053ec3",
   "metadata": {},
   "outputs": [
    {
     "name": "stdin",
     "output_type": "stream",
     "text": [
      " 34\n"
     ]
    },
    {
     "name": "stdout",
     "output_type": "stream",
     "text": [
      "The digits must add up to 10, not 7.\n"
     ]
    },
    {
     "name": "stdin",
     "output_type": "stream",
     "text": [
      " 12\n"
     ]
    },
    {
     "name": "stdout",
     "output_type": "stream",
     "text": [
      "The digits must add up to 10, not 3.\n"
     ]
    },
    {
     "name": "stdin",
     "output_type": "stream",
     "text": [
      " 125\n"
     ]
    },
    {
     "name": "stdout",
     "output_type": "stream",
     "text": [
      "The digits must add up to 10, not 8.\n"
     ]
    },
    {
     "name": "stdin",
     "output_type": "stream",
     "text": [
      " 1252\n"
     ]
    },
    {
     "data": {
      "text/plain": [
       "1252"
      ]
     },
     "execution_count": 34,
     "metadata": {},
     "output_type": "execute_result"
    }
   ],
   "source": [
    "# inputCustom\n",
    "def addsUpToTen(numbers): # validation function\n",
    "    numbersList = []\n",
    "    for digit in numbers:\n",
    "        numbersList.append(int(digit))\n",
    "    if sum(numbersList) != 10:\n",
    "        raise Exception(\"The digits must add up to 10, not %s.\" % (sum(numbersList)))\n",
    "    return int(numbers)\n",
    "\n",
    "pyip.inputCustom(addsUpToTen)"
   ]
  },
  {
   "cell_type": "code",
   "execution_count": 36,
   "id": "4558476f-8fa1-439b-8e25-89570003062b",
   "metadata": {},
   "outputs": [
    {
     "name": "stdout",
     "output_type": "stream",
     "text": [
      "Want to know how to keep an idiot busy for hours?\n"
     ]
    },
    {
     "name": "stdin",
     "output_type": "stream",
     "text": [
      " yes\n"
     ]
    },
    {
     "name": "stdout",
     "output_type": "stream",
     "text": [
      "Want to know how to keep an idiot busy for hours?\n"
     ]
    },
    {
     "name": "stdin",
     "output_type": "stream",
     "text": [
      " yes\n"
     ]
    },
    {
     "name": "stdout",
     "output_type": "stream",
     "text": [
      "Want to know how to keep an idiot busy for hours?\n"
     ]
    },
    {
     "name": "stdin",
     "output_type": "stream",
     "text": [
      " sure\n"
     ]
    },
    {
     "name": "stdout",
     "output_type": "stream",
     "text": [
      "'sure' is not a valid yes/no response.\n",
      "Want to know how to keep an idiot busy for hours?\n"
     ]
    },
    {
     "name": "stdin",
     "output_type": "stream",
     "text": [
      " tell me\n"
     ]
    },
    {
     "name": "stdout",
     "output_type": "stream",
     "text": [
      "'tell me' is not a valid yes/no response.\n",
      "Want to know how to keep an idiot busy for hours?\n"
     ]
    },
    {
     "name": "stdin",
     "output_type": "stream",
     "text": [
      " yes\n"
     ]
    },
    {
     "name": "stdout",
     "output_type": "stream",
     "text": [
      "Want to know how to keep an idiot busy for hours?\n"
     ]
    },
    {
     "name": "stdin",
     "output_type": "stream",
     "text": [
      " no\n"
     ]
    }
   ],
   "source": [
    "# How to Keep an Idiot Busy for Hours\n",
    "while True:\n",
    "    prompt = \"Want to know how to keep an idiot busy for hours?\\n\"\n",
    "    response = pyip.inputYesNo(prompt)\n",
    "    if response == \"no\":\n",
    "        break\n",
    "print(\"Thank You. Have a nice day.\")"
   ]
  },
  {
   "cell_type": "code",
   "execution_count": 38,
   "id": "6f1e7fcc-1607-4400-9673-65eed1ead0d6",
   "metadata": {},
   "outputs": [
    {
     "name": "stdout",
     "output_type": "stream",
     "text": [
      "馬鹿を何時間も忙しくさせたいと思いますか？\n"
     ]
    },
    {
     "name": "stdin",
     "output_type": "stream",
     "text": [
      " 当然\n"
     ]
    },
    {
     "name": "stdout",
     "output_type": "stream",
     "text": [
      "'当然' is not a valid はい/いいえ response.\n",
      "馬鹿を何時間も忙しくさせたいと思いますか？\n"
     ]
    },
    {
     "name": "stdin",
     "output_type": "stream",
     "text": [
      " はい\n"
     ]
    },
    {
     "name": "stdout",
     "output_type": "stream",
     "text": [
      "馬鹿を何時間も忙しくさせたいと思いますか？\n"
     ]
    },
    {
     "name": "stdin",
     "output_type": "stream",
     "text": [
      " ハ\n"
     ]
    },
    {
     "name": "stdout",
     "output_type": "stream",
     "text": [
      "'ハ' is not a valid はい/いいえ response.\n",
      "馬鹿を何時間も忙しくさせたいと思いますか？\n"
     ]
    },
    {
     "name": "stdin",
     "output_type": "stream",
     "text": [
      " はい\n"
     ]
    },
    {
     "name": "stdout",
     "output_type": "stream",
     "text": [
      "馬鹿を何時間も忙しくさせたいと思いますか？\n"
     ]
    },
    {
     "name": "stdin",
     "output_type": "stream",
     "text": [
      " いい\n"
     ]
    },
    {
     "name": "stdout",
     "output_type": "stream",
     "text": [
      "'いい' is not a valid はい/いいえ response.\n",
      "馬鹿を何時間も忙しくさせたいと思いますか？\n"
     ]
    },
    {
     "name": "stdin",
     "output_type": "stream",
     "text": [
      " い\n"
     ]
    },
    {
     "name": "stdout",
     "output_type": "stream",
     "text": [
      "Thank You. Have a nice day.\n"
     ]
    }
   ],
   "source": [
    "# How to Keep an Idiot Busy for Hours - International Version\n",
    "while True:\n",
    "    prompt = \"馬鹿を何時間も忙しくさせたいと思いますか？\\n\"\n",
    "    response = pyip.inputYesNo(prompt, yesVal=\"はい\", noVal=\"いいえ\")\n",
    "    if response == \"いいえ\":\n",
    "        break\n",
    "print(\"Thank You. Have a nice day.\")"
   ]
  },
  {
   "cell_type": "code",
   "execution_count": 41,
   "id": "e1e6988a-cee6-46f6-8ddc-d24f929bd2ee",
   "metadata": {},
   "outputs": [
    {
     "name": "stdout",
     "output_type": "stream",
     "text": [
      "#1: 0 x 2 = "
     ]
    },
    {
     "name": "stdin",
     "output_type": "stream",
     "text": [
      " 8\n"
     ]
    },
    {
     "name": "stdout",
     "output_type": "stream",
     "text": [
      "Incorrect\n",
      "#1: 0 x 2 = "
     ]
    },
    {
     "name": "stdin",
     "output_type": "stream",
     "text": [
      " 5\n"
     ]
    },
    {
     "name": "stdout",
     "output_type": "stream",
     "text": [
      "Incorrect\n",
      "Out of time!\n",
      "#2: 1 x 5 = "
     ]
    },
    {
     "name": "stdin",
     "output_type": "stream",
     "text": [
      " 5\n"
     ]
    },
    {
     "name": "stdout",
     "output_type": "stream",
     "text": [
      "#3: 8 x 3 = "
     ]
    },
    {
     "name": "stdin",
     "output_type": "stream",
     "text": [
      " 24\n"
     ]
    },
    {
     "name": "stdout",
     "output_type": "stream",
     "text": [
      "#4: 7 x 8 = "
     ]
    },
    {
     "name": "stdin",
     "output_type": "stream",
     "text": [
      " 42\n"
     ]
    },
    {
     "name": "stdout",
     "output_type": "stream",
     "text": [
      "Incorrect\n",
      "#4: 7 x 8 = "
     ]
    },
    {
     "name": "stdin",
     "output_type": "stream",
     "text": [
      " 56\n"
     ]
    },
    {
     "name": "stdout",
     "output_type": "stream",
     "text": [
      "Out of time!\n",
      "#5: 7 x 7 = "
     ]
    },
    {
     "name": "stdin",
     "output_type": "stream",
     "text": [
      " 49\n"
     ]
    },
    {
     "name": "stdout",
     "output_type": "stream",
     "text": [
      "#6: 2 x 7 = "
     ]
    },
    {
     "name": "stdin",
     "output_type": "stream",
     "text": [
      " 14\n"
     ]
    },
    {
     "name": "stdout",
     "output_type": "stream",
     "text": [
      "#7: 3 x 3 = "
     ]
    },
    {
     "name": "stdin",
     "output_type": "stream",
     "text": [
      " 9\n"
     ]
    },
    {
     "name": "stdout",
     "output_type": "stream",
     "text": [
      "#8: 0 x 7 = "
     ]
    },
    {
     "name": "stdin",
     "output_type": "stream",
     "text": [
      " 0\n"
     ]
    },
    {
     "name": "stdout",
     "output_type": "stream",
     "text": [
      "#9: 3 x 5 = "
     ]
    },
    {
     "name": "stdin",
     "output_type": "stream",
     "text": [
      " 15\n"
     ]
    },
    {
     "name": "stdout",
     "output_type": "stream",
     "text": [
      "#10: 0 x 2 = "
     ]
    },
    {
     "name": "stdin",
     "output_type": "stream",
     "text": [
      " 0\n"
     ]
    },
    {
     "name": "stdout",
     "output_type": "stream",
     "text": [
      "Score: 8 / 10\n"
     ]
    }
   ],
   "source": [
    "# Multiplication Quiz\n",
    "import random, time\n",
    "\n",
    "numberOfQuestions = 10\n",
    "correctAnswers = 0\n",
    "for questionNumber in range(numberOfQuestions):\n",
    "    num1 = random.randint(0,9)\n",
    "    num2 = random.randint(0,9)\n",
    "    prompt = \"#%s: %s x %s = \" % (questionNumber+1, num1, num2)\n",
    "    try:\n",
    "        pyip.inputStr(prompt, allowRegexes=['^%s$' % (num1 * num2)], blockRegexes=[('.*', \"Incorrect\")], timeout=8, limit=3)\n",
    "    except pyip.TimeoutException:\n",
    "        print(\"Out of time!\")\n",
    "    except pyip.RetryLimitException:\n",
    "        print(\"Out of tries!\")\n",
    "    else:\n",
    "        correctAnswers += 1\n",
    "time.sleep(1)\n",
    "print(\"Score: %s / %s\" % (correctAnswers,numberOfQuestions))"
   ]
  },
  {
   "cell_type": "code",
   "execution_count": 69,
   "id": "e0f6dee8-3e0b-4b1e-b4a2-693b167be4c1",
   "metadata": {},
   "outputs": [
    {
     "name": "stdout",
     "output_type": "stream",
     "text": [
      "Please select one of the following:\n",
      "1. wheat\n",
      "2. white\n",
      "3. sourdough\n"
     ]
    },
    {
     "name": "stdin",
     "output_type": "stream",
     "text": [
      " 4\n"
     ]
    },
    {
     "name": "stdout",
     "output_type": "stream",
     "text": [
      "'4' is not a valid choice.\n",
      "Please select one of the following:\n",
      "1. wheat\n",
      "2. white\n",
      "3. sourdough\n"
     ]
    },
    {
     "name": "stdin",
     "output_type": "stream",
     "text": [
      " 3\n"
     ]
    },
    {
     "name": "stdout",
     "output_type": "stream",
     "text": [
      "Please select one of the following:\n",
      "1. chicken\n",
      "2. turkey\n",
      "3. ham\n",
      "4. tofu\n"
     ]
    },
    {
     "name": "stdin",
     "output_type": "stream",
     "text": [
      " 2\n"
     ]
    },
    {
     "name": "stdout",
     "output_type": "stream",
     "text": [
      "Do you want cheese?"
     ]
    },
    {
     "name": "stdin",
     "output_type": "stream",
     "text": [
      " yes\n"
     ]
    },
    {
     "name": "stdout",
     "output_type": "stream",
     "text": [
      "Please select one of the following:\n",
      "1. cheddar\n",
      "2. swiss\n",
      "3. mozzarela\n"
     ]
    },
    {
     "name": "stdin",
     "output_type": "stream",
     "text": [
      " 2\n"
     ]
    },
    {
     "name": "stdout",
     "output_type": "stream",
     "text": [
      "Do you want mayonaise?"
     ]
    },
    {
     "name": "stdin",
     "output_type": "stream",
     "text": [
      " y\n"
     ]
    },
    {
     "name": "stdout",
     "output_type": "stream",
     "text": [
      "Do you want mustard?"
     ]
    },
    {
     "name": "stdin",
     "output_type": "stream",
     "text": [
      " y\n"
     ]
    },
    {
     "name": "stdout",
     "output_type": "stream",
     "text": [
      "Do you want tomato?"
     ]
    },
    {
     "name": "stdin",
     "output_type": "stream",
     "text": [
      " y\n"
     ]
    },
    {
     "name": "stdout",
     "output_type": "stream",
     "text": [
      "Do you want lettuce?"
     ]
    },
    {
     "name": "stdin",
     "output_type": "stream",
     "text": [
      " y\n"
     ]
    },
    {
     "name": "stdout",
     "output_type": "stream",
     "text": [
      "How many sandwiches do you want?"
     ]
    },
    {
     "name": "stdin",
     "output_type": "stream",
     "text": [
      " 1\n"
     ]
    },
    {
     "name": "stdout",
     "output_type": "stream",
     "text": [
      "......\n",
      "Your order is ready. Pay $23\n"
     ]
    }
   ],
   "source": [
    "import pyinputplus as pyip\n",
    "import time\n",
    "# Sandwich Maker\n",
    "breads = {\"wheat\": 3, \"white\": 2,\"sourdough\": 4}\n",
    "proteins = {\"chicken\": 4, \"turkey\": 6, \"ham\": 5, \"tofu\": 3}\n",
    "cheeses = {\"cheddar\": 4, \"swiss\": 5, \"mozzarela\": 3}\n",
    "toppings = {\"mayonaise\": 2,\"mustard\": 3,\"tomato\": 2,\"lettuce\": 1}\n",
    "\n",
    "price = 0\n",
    "\n",
    "bread = pyip.inputMenu(list(breads.keys()), numbered=True)\n",
    "price += breads[bread]\n",
    "\n",
    "protein = pyip.inputMenu(list(proteins.keys()), numbered=True)\n",
    "price += proteins[protein]\n",
    "\n",
    "if pyip.inputYesNo(\"Do you want cheese?\") == \"yes\":\n",
    "    cheese = pyip.inputMenu(list(cheeses.keys()), numbered=True)\n",
    "    price += cheeses[cheese]\n",
    "for topping in toppings:\n",
    "    if pyip.inputYesNo(f\"Do you want {topping}?\") == \"yes\":\n",
    "        price += toppings[topping]\n",
    "\n",
    "count = pyip.inputNum(\"How many sandwiches do you want?\", min=1)\n",
    "\n",
    "print(\"......\")\n",
    "time.sleep(2)\n",
    "print(f\"Your order is ready. Pay ${count * price}\")"
   ]
  },
  {
   "cell_type": "code",
   "execution_count": null,
   "id": "e8857e17-2ec8-4c56-8460-0170228c99ad",
   "metadata": {},
   "outputs": [],
   "source": []
  },
  {
   "cell_type": "code",
   "execution_count": null,
   "id": "b980ae71-ac6c-4fa1-a4b8-90d974247b51",
   "metadata": {},
   "outputs": [],
   "source": []
  }
 ],
 "metadata": {
  "kernelspec": {
   "display_name": "Python 3 (ipykernel)",
   "language": "python",
   "name": "python3"
  },
  "language_info": {
   "codemirror_mode": {
    "name": "ipython",
    "version": 3
   },
   "file_extension": ".py",
   "mimetype": "text/x-python",
   "name": "python",
   "nbconvert_exporter": "python",
   "pygments_lexer": "ipython3",
   "version": "3.10.12"
  }
 },
 "nbformat": 4,
 "nbformat_minor": 5
}
