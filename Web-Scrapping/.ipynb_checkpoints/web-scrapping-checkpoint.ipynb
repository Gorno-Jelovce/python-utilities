{
 "cells": [
  {
   "cell_type": "code",
   "execution_count": 1,
   "id": "783fe524-43f0-4667-8527-54524aa6b063",
   "metadata": {},
   "outputs": [],
   "source": [
    "# webbrowser module\n",
    "import webbrowser"
   ]
  },
  {
   "cell_type": "code",
   "execution_count": 2,
   "id": "8f3a3f34-3957-442b-bbc7-7bdb2f859923",
   "metadata": {},
   "outputs": [
    {
     "data": {
      "text/plain": [
       "True"
      ]
     },
     "execution_count": 2,
     "metadata": {},
     "output_type": "execute_result"
    }
   ],
   "source": [
    "webbrowser.open('https://inventwithpython.com/')"
   ]
  },
  {
   "cell_type": "code",
   "execution_count": 2,
   "id": "174cd499-d774-41d0-8cc3-868355ad6025",
   "metadata": {},
   "outputs": [],
   "source": [
    "# requests module\n",
    "import requests"
   ]
  },
  {
   "cell_type": "code",
   "execution_count": 10,
   "id": "edc15e27-351d-4821-b888-7878a6da3dac",
   "metadata": {},
   "outputs": [
    {
     "name": "stdout",
     "output_type": "stream",
     "text": [
      "<class 'requests.models.Response'>\n",
      "True\n",
      "178978\n",
      "The Project Gutenberg EBook of Romeo and Juliet, by William Shakespeare\n",
      "\n",
      "This eBook is for the use of anyone anywhere at no cost and with\n",
      "almost no restrictions whatsoever.  You may copy it, give it away or\n",
      "re-use it under the terms of the Projec\n"
     ]
    }
   ],
   "source": [
    "res = requests.get('https://automatetheboringstuff.com/files/rj.txt')\n",
    "print(type(res))\n",
    "\n",
    "res.raise_for_status() # raises an exception if the download fails\n",
    "\n",
    "print(res.status_code == requests.codes.ok)\n",
    "print(len(res.text))\n",
    "print(res.text[:250])"
   ]
  },
  {
   "cell_type": "code",
   "execution_count": 11,
   "id": "a004dd4d-7e58-4bd9-95ad-ccb9eb0a6655",
   "metadata": {},
   "outputs": [],
   "source": [
    "# saving downloaded files\n",
    "playFile = open('RomeoAndJuliet.txt','wb') # binary mode is important to save unicode encoding of web pages\n",
    "for chunk in res.iter_content(100000):\n",
    "    playFile.write(chunk)\n",
    "playFile.close()"
   ]
  },
  {
   "cell_type": "code",
   "execution_count": 3,
   "id": "e15cf8ae-2cc7-4aae-8b37-81331eeeb108",
   "metadata": {},
   "outputs": [],
   "source": [
    "# bs4 module (Beautiful Soup)\n",
    "import bs4"
   ]
  },
  {
   "cell_type": "code",
   "execution_count": 8,
   "id": "5d7bc9d2-7f94-4683-9688-e4bef14cba4d",
   "metadata": {},
   "outputs": [
    {
     "data": {
      "text/plain": [
       "bs4.BeautifulSoup"
      ]
     },
     "execution_count": 8,
     "metadata": {},
     "output_type": "execute_result"
    }
   ],
   "source": [
    "res = requests.get('https://nostarch.com')\n",
    "res.raise_for_status()\n",
    "noStarchSoup = bs4.BeautifulSoup(res.text, 'html.parser')\n",
    "type(noStarchSoup)"
   ]
  },
  {
   "cell_type": "code",
   "execution_count": 9,
   "id": "4995543e-faef-477f-9746-efd0c965f564",
   "metadata": {},
   "outputs": [
    {
     "data": {
      "text/plain": [
       "bs4.BeautifulSoup"
      ]
     },
     "execution_count": 9,
     "metadata": {},
     "output_type": "execute_result"
    }
   ],
   "source": [
    "exampleFile = open('example.html')\n",
    "exampleSoup = bs4.BeautifulSoup(exampleFile, 'html.parser')\n",
    "type(exampleSoup)"
   ]
  },
  {
   "cell_type": "code",
   "execution_count": 18,
   "id": "ce388ee3-0828-40c7-8a54-576a72c65916",
   "metadata": {},
   "outputs": [
    {
     "name": "stdout",
     "output_type": "stream",
     "text": [
      "<class 'bs4.element.ResultSet'>\n",
      "1\n",
      "<class 'bs4.element.Tag'>\n",
      "<span id=\"author\">Al Sweigart</span>\n",
      "Al Sweigart\n",
      "{'id': 'author'}\n"
     ]
    }
   ],
   "source": [
    "elems = exampleSoup.select(\"#author\")  # select works similarly to css selector\n",
    "print(type(elems))\n",
    "print(len(elems))\n",
    "print(type(elems[0]))\n",
    "print(str(elems[0]))\n",
    "print(elems[0].getText())\n",
    "print(elems[0].attrs)"
   ]
  },
  {
   "cell_type": "code",
   "execution_count": 32,
   "id": "33e4a48c-760a-4419-9623-43c62c3be594",
   "metadata": {},
   "outputs": [
    {
     "name": "stdout",
     "output_type": "stream",
     "text": [
      "<p>Download my <strong>Python</strong> book from <a href=\"http://inventwithpython.com\">my website</a>.</p>\n",
      "Download my Python book from my website.\n",
      "<p class=\"slogan\">Learn Python the easy way!</p>\n",
      "Learn Python the easy way!\n",
      "<p>By <span id=\"author\">Al Sweigart</span></p>\n",
      "By Al Sweigart\n"
     ]
    }
   ],
   "source": [
    "pElems = exampleSoup.select(\"p\")\n",
    "print(str(pElems[0]),\n",
    "      pElems[0].getText(),\n",
    "      str(pElems[1]),\n",
    "      pElems[1].getText(),\n",
    "      str(pElems[2]),\n",
    "      pElems[2].getText(),\n",
    "      sep='\\n')"
   ]
  },
  {
   "cell_type": "code",
   "execution_count": 37,
   "id": "f7ad69ba-5b93-4284-8d51-23ba26444251",
   "metadata": {},
   "outputs": [
    {
     "name": "stdout",
     "output_type": "stream",
     "text": [
      "<span id=\"author\">Al Sweigart</span>\n",
      "author\n",
      "True\n",
      "{'id': 'author'}\n"
     ]
    }
   ],
   "source": [
    "# getting data from an elements's attributes\n",
    "spanElem = exampleSoup.select('span')[0]\n",
    "print(str(spanElem),\n",
    "      spanElem.get('id'),\n",
    "      spanElem.get('some_nonexistent_attr') == None,\n",
    "      spanElem.attrs,\n",
    "      sep='\\n'\n",
    ")"
   ]
  },
  {
   "cell_type": "code",
   "execution_count": 38,
   "id": "ab6044de-8afc-4448-9839-7113dbbd1544",
   "metadata": {},
   "outputs": [],
   "source": [
    "exampleFile.close()"
   ]
  },
  {
   "cell_type": "code",
   "execution_count": 79,
   "id": "ba02a664-ae6a-41c9-8f64-cf1fa4b25b47",
   "metadata": {},
   "outputs": [],
   "source": [
    "# selenium module\n",
    "from selenium import webdriver\n",
    "from selenium.webdriver.common.by import By"
   ]
  },
  {
   "cell_type": "code",
   "execution_count": 77,
   "id": "83a54ea7-9170-4039-964b-acb8768f73a4",
   "metadata": {},
   "outputs": [
    {
     "name": "stdout",
     "output_type": "stream",
     "text": [
      "Was not able to find an element with that name.\n"
     ]
    }
   ],
   "source": [
    "# opening web browser and finding elements\n",
    "browser = webdriver.Firefox()\n",
    "browser.get('https://inventwithpython.com')\n",
    "try:\n",
    "    elem = browser.find_element(By.CLASS_NAME,'bookcover')\n",
    "    print(f\"Found {elem.tag_name} element with that class name!\")\n",
    "except:\n",
    "    print('Was not able to find an element with that name.')\n",
    "browser.close()"
   ]
  },
  {
   "cell_type": "code",
   "execution_count": 80,
   "id": "a444f11e-717e-4f16-9073-c7571f97e9f0",
   "metadata": {},
   "outputs": [
    {
     "name": "stdout",
     "output_type": "stream",
     "text": [
      "<class 'selenium.webdriver.remote.webelement.WebElement'>\n"
     ]
    }
   ],
   "source": [
    "# clicking the pages\n",
    "browser = webdriver.Firefox()\n",
    "browser.get('https://inventwithpython.com')\n",
    "linkElem = browser.find_element(By.LINK_TEXT, 'Read Online for Free')\n",
    "print(type(linkElem))\n",
    "linkElem.click()\n",
    "browser.close()"
   ]
  },
  {
   "cell_type": "code",
   "execution_count": 82,
   "id": "eac23abb-8526-4212-80b1-8394fd4af2d7",
   "metadata": {},
   "outputs": [],
   "source": [
    "# filling out and submitting forms\n",
    "browser = webdriver.Firefox()\n",
    "browser.get('https://login.metafilter.com')\n",
    "userElem = browser.find_element(By.ID, 'user_name')\n",
    "userElem.send_keys('your_name')\n",
    "passwordElem = browser.find_element(By.ID, 'user_pass')\n",
    "passwordElem.send_keys('your_password')\n",
    "passwordElem.submit()         # submit can be called on any element\n",
    "browser.close()"
   ]
  },
  {
   "cell_type": "code",
   "execution_count": 88,
   "id": "522fb48a-12de-47aa-b6a8-92bf9e41e327",
   "metadata": {},
   "outputs": [],
   "source": [
    "# special keys\n",
    "# from selenium.webdriver.common.keys import Keys\n",
    "# Keys.DOWN, Keys.UP, Keys.LEFT, Keys.RIGHT\n",
    "# Keys.ENTER, Keys.RETURN\n",
    "# Keys.HOME, Keys.END, Keys.PAGE_DOWN, Keys.PAGE_UP\n",
    "# Keys.ESCAPE, Keys.BACK_SPACE, Keys.DELETE\n",
    "# Keys.F1, Keys.F2, ..., Keys.F12\n",
    "# Keys.TAB\n",
    "\n",
    "\n",
    "# Broswer Button\n",
    "# browser.back()\n",
    "# browser.forward()\n",
    "# browser.refresh()\n",
    "# browser.quit()"
   ]
  },
  {
   "cell_type": "code",
   "execution_count": null,
   "id": "514e4478-c9ae-48d5-9422-f00a5e5ece45",
   "metadata": {},
   "outputs": [],
   "source": []
  },
  {
   "cell_type": "code",
   "execution_count": null,
   "id": "fbd47b78-26c2-4bc2-9a0e-e1beccddd1c3",
   "metadata": {},
   "outputs": [],
   "source": []
  }
 ],
 "metadata": {
  "kernelspec": {
   "display_name": "Python 3 (ipykernel)",
   "language": "python",
   "name": "python3"
  },
  "language_info": {
   "codemirror_mode": {
    "name": "ipython",
    "version": 3
   },
   "file_extension": ".py",
   "mimetype": "text/x-python",
   "name": "python",
   "nbconvert_exporter": "python",
   "pygments_lexer": "ipython3",
   "version": "3.10.12"
  }
 },
 "nbformat": 4,
 "nbformat_minor": 5
}
