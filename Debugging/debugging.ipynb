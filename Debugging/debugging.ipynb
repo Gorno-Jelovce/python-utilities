{
 "cells": [
  {
   "cell_type": "code",
   "execution_count": 3,
   "id": "03b25eba-7e24-4d71-81b0-e59cae4a8872",
   "metadata": {},
   "outputs": [],
   "source": [
    "def boxPrint(symbol,width,height):\n",
    "    if len(symbol) != 1:\n",
    "        raise Exception(\"Symbol must be a single character string.\")\n",
    "    if width <= 2:\n",
    "        raise Exception(\"Width must be greater than 2.\")\n",
    "    if height <= 2:\n",
    "        raise Exception(\"Height must be greater than 2.\")\n",
    "\n",
    "    print(symbol * width)\n",
    "    for i in range(height - 1):\n",
    "        print(symbol + (' ' * (width - 2)) + symbol)\n",
    "    print(symbol * width)"
   ]
  },
  {
   "cell_type": "code",
   "execution_count": 7,
   "id": "b57425bb-e638-427b-ae6a-bd17bb4a1099",
   "metadata": {},
   "outputs": [
    {
     "name": "stdout",
     "output_type": "stream",
     "text": [
      "****\n",
      "*  *\n",
      "*  *\n",
      "*  *\n",
      "****\n",
      "00000000000000000000\n",
      "0                  0\n",
      "0                  0\n",
      "0                  0\n",
      "0                  0\n",
      "00000000000000000000\n",
      "An exception happened: Width must be greater than 2.\n",
      "An exception happened: Symbol must be a single character string.\n"
     ]
    }
   ],
   "source": [
    "for sym, w, h in (('*',4,4), ('0', 20, 5), ('x', 1, 3), ('ZZ', 3, 3)):\n",
    "    try:\n",
    "        boxPrint(sym,w,h)\n",
    "    except Exception as err:\n",
    "        print('An exception happened: ' + str(err))"
   ]
  },
  {
   "cell_type": "code",
   "execution_count": 9,
   "id": "5e8671e3-ca14-4fc6-8e40-721b117df3d4",
   "metadata": {},
   "outputs": [
    {
     "name": "stdout",
     "output_type": "stream",
     "text": [
      "Traceback (most recent call last):\n",
      "  File \"/tmp/ipykernel_23087/31851712.py\", line 4, in <module>\n",
      "    raise Exception('This is the error message.')\n",
      "Exception: This is the error message.\n",
      "\n"
     ]
    }
   ],
   "source": [
    "# traceback\n",
    "import traceback\n",
    "try:\n",
    "    raise Exception('This is the error message.')\n",
    "except:\n",
    "    print(traceback.format_exc())"
   ]
  },
  {
   "cell_type": "code",
   "execution_count": 15,
   "id": "fc1c6d59-4f90-4aaf-b927-c596d76c3781",
   "metadata": {},
   "outputs": [
    {
     "ename": "AssertionError",
     "evalue": "",
     "output_type": "error",
     "traceback": [
      "\u001b[0;31m---------------------------------------------------------------------------\u001b[0m",
      "\u001b[0;31mAssertionError\u001b[0m                            Traceback (most recent call last)",
      "\u001b[0;32m/tmp/ipykernel_23087/530690919.py\u001b[0m in \u001b[0;36m<module>\u001b[0;34m\u001b[0m\n\u001b[1;32m      2\u001b[0m \u001b[0ma\u001b[0m \u001b[0;34m=\u001b[0m \u001b[0;34m[\u001b[0m\u001b[0;36m4\u001b[0m\u001b[0;34m,\u001b[0m\u001b[0;36m7\u001b[0m\u001b[0;34m,\u001b[0m\u001b[0;36m3\u001b[0m\u001b[0;34m,\u001b[0m\u001b[0;36m6\u001b[0m\u001b[0;34m,\u001b[0m\u001b[0;36m8\u001b[0m\u001b[0;34m,\u001b[0m\u001b[0;36m4\u001b[0m\u001b[0;34m,\u001b[0m\u001b[0;36m7\u001b[0m\u001b[0;34m,\u001b[0m\u001b[0;36m3\u001b[0m\u001b[0;34m,\u001b[0m\u001b[0;36m5\u001b[0m\u001b[0;34m,\u001b[0m\u001b[0;36m8\u001b[0m\u001b[0;34m,\u001b[0m\u001b[0;36m5\u001b[0m\u001b[0;34m,\u001b[0m\u001b[0;36m4\u001b[0m\u001b[0;34m]\u001b[0m\u001b[0;34m\u001b[0m\u001b[0;34m\u001b[0m\u001b[0m\n\u001b[1;32m      3\u001b[0m \u001b[0ma\u001b[0m\u001b[0;34m.\u001b[0m\u001b[0mreverse\u001b[0m\u001b[0;34m(\u001b[0m\u001b[0;34m)\u001b[0m\u001b[0;34m\u001b[0m\u001b[0;34m\u001b[0m\u001b[0m\n\u001b[0;32m----> 4\u001b[0;31m \u001b[0;32massert\u001b[0m \u001b[0ma\u001b[0m\u001b[0;34m[\u001b[0m\u001b[0;36m0\u001b[0m\u001b[0;34m]\u001b[0m \u001b[0;34m!=\u001b[0m \u001b[0ma\u001b[0m\u001b[0;34m[\u001b[0m\u001b[0;34m-\u001b[0m\u001b[0;36m1\u001b[0m\u001b[0;34m]\u001b[0m\u001b[0;34m\u001b[0m\u001b[0;34m\u001b[0m\u001b[0m\n\u001b[0m",
      "\u001b[0;31mAssertionError\u001b[0m: "
     ]
    }
   ],
   "source": [
    "# assertion\n",
    "a = [4,7,3,6,8,4,7,3,5,8,5,4]\n",
    "a.reverse()\n",
    "assert a[0] != a[-1]"
   ]
  },
  {
   "cell_type": "code",
   "execution_count": 18,
   "id": "8a5eb65e-dd77-4437-846e-702bb3f40e80",
   "metadata": {},
   "outputs": [
    {
     "name": "stderr",
     "output_type": "stream",
     "text": [
      " 2024-01-10 21:28:52,700 - DEBUG -Start of program\n",
      " 2024-01-10 21:28:52,716 - DEBUG -Start of factorial(5%)\n",
      " 2024-01-10 21:28:52,721 - DEBUG -i is 0, total is 0\n",
      " 2024-01-10 21:28:52,724 - DEBUG -i is 1, total is 0\n",
      " 2024-01-10 21:28:52,730 - DEBUG -i is 2, total is 0\n",
      " 2024-01-10 21:28:52,735 - DEBUG -i is 3, total is 0\n",
      " 2024-01-10 21:28:52,736 - DEBUG -i is 4, total is 0\n",
      " 2024-01-10 21:28:52,741 - DEBUG -i is 5, total is 0\n",
      " 2024-01-10 21:28:52,743 - DEBUG -End of factorial(5%)\n",
      " 2024-01-10 21:28:52,752 - DEBUG -End of program\n"
     ]
    },
    {
     "name": "stdout",
     "output_type": "stream",
     "text": [
      "0\n"
     ]
    }
   ],
   "source": [
    "# logging\n",
    "import logging\n",
    "logging.basicConfig(level=logging.DEBUG, format=' %(asctime)s - %(levelname)s -%(message)s')\n",
    "logging.debug('Start of program')\n",
    "\n",
    "def factorial(n):\n",
    "    logging.debug('Start of factorial(%s%%)' %(n))\n",
    "    total = 1\n",
    "    for i in range(n+1):\n",
    "        total *= i\n",
    "        logging.debug('i is ' + str(i) + ', total is ' + str(total))\n",
    "    logging.debug('End of factorial(%s%%)' % (n))\n",
    "    return total\n",
    "\n",
    "print(factorial(5))\n",
    "logging.debug('End of program')"
   ]
  },
  {
   "cell_type": "code",
   "execution_count": 19,
   "id": "615166d6-0a58-4805-9adc-14b46bbede16",
   "metadata": {},
   "outputs": [],
   "source": [
    "# logging levels\n",
    "# DEBUG     logging.debug()    # lowest\n",
    "# INFO      logging.info()\n",
    "# WARNING   logging.warning()\n",
    "# ERROR     logging.error()\n",
    "# CRITICAL  logging.critical() # highest\n",
    "#\n",
    "# logging.basicConfig(level=logging.<>) changes the lowest level of logs shown\n",
    "# logging.disable(logging.<>) disables all logs of same and lower level"
   ]
  },
  {
   "cell_type": "code",
   "execution_count": 30,
   "id": "3058fe92-a131-48d0-9463-4c2561176c12",
   "metadata": {},
   "outputs": [
    {
     "name": "stderr",
     "output_type": "stream",
     "text": [
      " 2024-01-10 21:46:53,343 - DEBUG -Start of program\n",
      " 2024-01-10 21:46:53,347 - DEBUG -Start of factorial(5)\n",
      " 2024-01-10 21:46:53,349 - DEBUG -i is 0, total is 0\n",
      " 2024-01-10 21:46:53,351 - DEBUG -i is 1, total is 0\n",
      " 2024-01-10 21:46:53,353 - DEBUG -i is 2, total is 0\n",
      " 2024-01-10 21:46:53,354 - DEBUG -i is 3, total is 0\n",
      " 2024-01-10 21:46:53,356 - DEBUG -i is 4, total is 0\n",
      " 2024-01-10 21:46:53,357 - DEBUG -i is 5, total is 0\n",
      " 2024-01-10 21:46:53,358 - DEBUG -End of factorial(5)\n",
      " 2024-01-10 21:46:53,360 - DEBUG -End of program\n"
     ]
    },
    {
     "name": "stdout",
     "output_type": "stream",
     "text": [
      "0\n"
     ]
    }
   ],
   "source": [
    "# logging to a file - does not work in jupyter notebook for some reason\n",
    "import logging\n",
    "logging.basicConfig(filename=\"myProgramLog.log\",level=logging.DEBUG, format=' %(asctime)s - %(levelname)s -%(message)s')\n",
    "logging.debug('Start of program')\n",
    "\n",
    "def factorial(n):\n",
    "    logging.debug('Start of factorial(%s)' % (n))\n",
    "    total = 1\n",
    "    for i in range(n+1):\n",
    "        total *= i\n",
    "        logging.debug('i is ' + str(i) + ', total is ' + str(total))\n",
    "    logging.debug('End of factorial(%s)' % (n))\n",
    "    return total\n",
    "\n",
    "print(factorial(5))\n",
    "logging.debug('End of program')"
   ]
  },
  {
   "cell_type": "code",
   "execution_count": null,
   "id": "025d996b-fca6-4e4b-b723-613c7342fc81",
   "metadata": {},
   "outputs": [],
   "source": []
  },
  {
   "cell_type": "code",
   "execution_count": null,
   "id": "6160acf8-2aea-48c0-8514-31550189f09d",
   "metadata": {},
   "outputs": [],
   "source": []
  }
 ],
 "metadata": {
  "kernelspec": {
   "display_name": "Python 3 (ipykernel)",
   "language": "python",
   "name": "python3"
  },
  "language_info": {
   "codemirror_mode": {
    "name": "ipython",
    "version": 3
   },
   "file_extension": ".py",
   "mimetype": "text/x-python",
   "name": "python",
   "nbconvert_exporter": "python",
   "pygments_lexer": "ipython3",
   "version": "3.10.12"
  }
 },
 "nbformat": 4,
 "nbformat_minor": 5
}
