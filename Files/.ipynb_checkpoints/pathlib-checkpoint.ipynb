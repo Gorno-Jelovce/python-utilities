{
 "cells": [
  {
   "cell_type": "code",
   "execution_count": 28,
   "id": "533192a0-b85c-4089-a0ee-9ea890a83766",
   "metadata": {},
   "outputs": [],
   "source": [
    "from pathlib import Path # Cross Operating System\n",
    "import os"
   ]
  },
  {
   "cell_type": "code",
   "execution_count": 11,
   "id": "c22cb78f-9e85-4bc8-a174-05547c4a719d",
   "metadata": {},
   "outputs": [
    {
     "data": {
      "text/plain": [
       "PosixPath('spam/bacon/eggs')"
      ]
     },
     "execution_count": 11,
     "metadata": {},
     "output_type": "execute_result"
    }
   ],
   "source": [
    "Path('spam','bacon','eggs')"
   ]
  },
  {
   "cell_type": "code",
   "execution_count": 12,
   "id": "332fe83f-18d5-46fb-8264-2fc45a5060b5",
   "metadata": {},
   "outputs": [
    {
     "data": {
      "text/plain": [
       "'spam/bacon/eggs'"
      ]
     },
     "execution_count": 12,
     "metadata": {},
     "output_type": "execute_result"
    }
   ],
   "source": [
    "str(Path('spam','bacon','eggs'))"
   ]
  },
  {
   "cell_type": "code",
   "execution_count": 19,
   "id": "391baa8e-9bde-4680-9794-f35a68d40159",
   "metadata": {},
   "outputs": [
    {
     "data": {
      "text/plain": [
       "PosixPath('spam/bacon/eggs/spam/eggs')"
      ]
     },
     "execution_count": 19,
     "metadata": {},
     "output_type": "execute_result"
    }
   ],
   "source": [
    "# / operator to join\n",
    "Path('spam') / 'bacon' / 'eggs' / Path('spam/eggs')"
   ]
  },
  {
   "cell_type": "code",
   "execution_count": 36,
   "id": "4eb76155-373d-42f5-8879-ee66181d29f1",
   "metadata": {},
   "outputs": [
    {
     "data": {
      "text/plain": [
       "PosixPath('/home/sumit/Dev/Python/python-utilities/Files')"
      ]
     },
     "execution_count": 36,
     "metadata": {},
     "output_type": "execute_result"
    }
   ],
   "source": [
    "# current working directory\n",
    "Path.cwd()\n",
    "# os.chdir() # Changes current working directory"
   ]
  },
  {
   "cell_type": "code",
   "execution_count": 37,
   "id": "c63f73f4-ab93-437b-82f4-5018114ea30f",
   "metadata": {},
   "outputs": [
    {
     "data": {
      "text/plain": [
       "PosixPath('/home/sumit')"
      ]
     },
     "execution_count": 37,
     "metadata": {},
     "output_type": "execute_result"
    }
   ],
   "source": [
    "# home directory\n",
    "Path.home()"
   ]
  },
  {
   "cell_type": "code",
   "execution_count": null,
   "id": "2bcbc100-9ecf-4924-b60a-439faae4b2f7",
   "metadata": {},
   "outputs": [],
   "source": [
    "# Create new folders\n",
    "os.makedirs('delicious/walnut/waffles')\n",
    "Path('spam').mkdir()"
   ]
  },
  {
   "cell_type": "code",
   "execution_count": 58,
   "id": "98f448bc-3dd9-46da-be80-7e517e250e08",
   "metadata": {},
   "outputs": [
    {
     "name": "stdout",
     "output_type": "stream",
     "text": [
      "True\n",
      "False\n"
     ]
    },
    {
     "data": {
      "text/plain": [
       "PosixPath('/home/sumit/Dev/Python/python-utilities/Files/bacon/spam')"
      ]
     },
     "execution_count": 58,
     "metadata": {},
     "output_type": "execute_result"
    }
   ],
   "source": [
    "# absolute (/) vs relative (./ or ../) paths\n",
    "print(Path.cwd().is_absolute())\n",
    "print(Path('bacon/spam/eggs').is_absolute())\n",
    "Path.cwd() / Path('bacon/spam')"
   ]
  },
  {
   "cell_type": "code",
   "execution_count": 68,
   "id": "1e3b551e-a6c8-46b4-9187-45b843262d3d",
   "metadata": {},
   "outputs": [
    {
     "name": "stdout",
     "output_type": "stream",
     "text": [
      "/home/sumit/Dev/Python/python-utilities/bacon/spam\n",
      "False\n",
      "../../../../Download\n",
      "../Download\n"
     ]
    }
   ],
   "source": [
    "print(os.path.abspath('../bacon/spam'))\n",
    "print(os.path.isabs('bacon/spam'))\n",
    "print(os.path.relpath('/home/sumit/Download'))\n",
    "print(os.path.relpath('/home/sumit/Download','/home/sumit/Dev'))"
   ]
  },
  {
   "cell_type": "code",
   "execution_count": 77,
   "id": "0ac2eb0b-3aa8-487f-8019-6c96e1d7ade8",
   "metadata": {},
   "outputs": [],
   "source": [
    "# paths of file name\n",
    "p = Path('/home/sumit/Dev/Python/bacon/spam/eggs.txt')"
   ]
  },
  {
   "cell_type": "code",
   "execution_count": 78,
   "id": "8b4cba28-6038-40b0-b567-9d803f22f794",
   "metadata": {},
   "outputs": [
    {
     "data": {
      "text/plain": [
       "'/'"
      ]
     },
     "execution_count": 78,
     "metadata": {},
     "output_type": "execute_result"
    }
   ],
   "source": [
    "p.anchor"
   ]
  },
  {
   "cell_type": "code",
   "execution_count": 79,
   "id": "14513fca-9ff4-4cc9-86c1-a2fb2f2e01c2",
   "metadata": {},
   "outputs": [
    {
     "data": {
      "text/plain": [
       "PosixPath('/home/sumit/Dev/Python/bacon/spam')"
      ]
     },
     "execution_count": 79,
     "metadata": {},
     "output_type": "execute_result"
    }
   ],
   "source": [
    "p.parent"
   ]
  },
  {
   "cell_type": "code",
   "execution_count": 80,
   "id": "7e8fceb6-3d8a-455a-902f-4fe48b0c5f96",
   "metadata": {},
   "outputs": [
    {
     "data": {
      "text/plain": [
       "'eggs.txt'"
      ]
     },
     "execution_count": 80,
     "metadata": {},
     "output_type": "execute_result"
    }
   ],
   "source": [
    "p.name"
   ]
  },
  {
   "cell_type": "code",
   "execution_count": 81,
   "id": "8883c94b-15f5-4050-89f9-2d24d923529d",
   "metadata": {},
   "outputs": [
    {
     "data": {
      "text/plain": [
       "'eggs'"
      ]
     },
     "execution_count": 81,
     "metadata": {},
     "output_type": "execute_result"
    }
   ],
   "source": [
    "p.stem"
   ]
  },
  {
   "cell_type": "code",
   "execution_count": 82,
   "id": "dfd6af61-5190-4f9b-98eb-92745ceca186",
   "metadata": {},
   "outputs": [
    {
     "data": {
      "text/plain": [
       "'.txt'"
      ]
     },
     "execution_count": 82,
     "metadata": {},
     "output_type": "execute_result"
    }
   ],
   "source": [
    "p.suffix"
   ]
  },
  {
   "cell_type": "code",
   "execution_count": 84,
   "id": "b21a4ee1-306c-426d-a533-a393fe3d20d0",
   "metadata": {},
   "outputs": [
    {
     "data": {
      "text/plain": [
       "''"
      ]
     },
     "execution_count": 84,
     "metadata": {},
     "output_type": "execute_result"
    }
   ],
   "source": [
    "p.drive # for windows"
   ]
  },
  {
   "cell_type": "code",
   "execution_count": 86,
   "id": "edf5ce76-f96a-4f68-be3c-6eed8e41215c",
   "metadata": {},
   "outputs": [
    {
     "data": {
      "text/plain": [
       "<PosixPath.parents>"
      ]
     },
     "execution_count": 86,
     "metadata": {},
     "output_type": "execute_result"
    }
   ],
   "source": [
    "p.parents"
   ]
  },
  {
   "cell_type": "code",
   "execution_count": 87,
   "id": "5c7bf46e-5838-4adc-ada0-b2adcb1e5c82",
   "metadata": {},
   "outputs": [
    {
     "data": {
      "text/plain": [
       "PosixPath('/home/sumit/Dev/Python/bacon/spam')"
      ]
     },
     "execution_count": 87,
     "metadata": {},
     "output_type": "execute_result"
    }
   ],
   "source": [
    "p.parents[0]"
   ]
  },
  {
   "cell_type": "code",
   "execution_count": 88,
   "id": "fa563033-0963-48ce-b7e9-cd12ea9bf2ae",
   "metadata": {},
   "outputs": [
    {
     "data": {
      "text/plain": [
       "PosixPath('/home/sumit/Dev/Python/bacon')"
      ]
     },
     "execution_count": 88,
     "metadata": {},
     "output_type": "execute_result"
    }
   ],
   "source": [
    "p.parents[1]"
   ]
  },
  {
   "cell_type": "code",
   "execution_count": 90,
   "id": "4b13c86e-7733-4588-8d12-888a103aa35b",
   "metadata": {},
   "outputs": [
    {
     "data": {
      "text/plain": [
       "PosixPath('/home/sumit/Dev/Python')"
      ]
     },
     "execution_count": 90,
     "metadata": {},
     "output_type": "execute_result"
    }
   ],
   "source": [
    "p.parents[2]"
   ]
  },
  {
   "cell_type": "code",
   "execution_count": 91,
   "id": "75f3dc6e-3071-4291-a16b-863ebbb34287",
   "metadata": {},
   "outputs": [
    {
     "data": {
      "text/plain": [
       "'eggs.txt'"
      ]
     },
     "execution_count": 91,
     "metadata": {},
     "output_type": "execute_result"
    }
   ],
   "source": [
    "filePath = '/home/sumit/Dev/Python/bacon/spam/eggs.txt'\n",
    "os.path.basename(filePath)"
   ]
  },
  {
   "cell_type": "code",
   "execution_count": 92,
   "id": "30abb832-78eb-4a3d-b00a-668174371fd9",
   "metadata": {},
   "outputs": [
    {
     "data": {
      "text/plain": [
       "'/home/sumit/Dev/Python/bacon/spam'"
      ]
     },
     "execution_count": 92,
     "metadata": {},
     "output_type": "execute_result"
    }
   ],
   "source": [
    "os.path.dirname(filePath)"
   ]
  },
  {
   "cell_type": "code",
   "execution_count": 93,
   "id": "19c7a2dc-3146-4560-92cc-2bb38c26b7d1",
   "metadata": {},
   "outputs": [
    {
     "data": {
      "text/plain": [
       "('/home/sumit/Dev/Python/bacon/spam', 'eggs.txt')"
      ]
     },
     "execution_count": 93,
     "metadata": {},
     "output_type": "execute_result"
    }
   ],
   "source": [
    "os.path.split(filePath)"
   ]
  },
  {
   "cell_type": "code",
   "execution_count": 94,
   "id": "6564fa99-07ad-4122-b2c3-2f7f724f684f",
   "metadata": {},
   "outputs": [
    {
     "data": {
      "text/plain": [
       "['', 'home', 'sumit', 'Dev', 'Python', 'bacon', 'spam', 'eggs.txt']"
      ]
     },
     "execution_count": 94,
     "metadata": {},
     "output_type": "execute_result"
    }
   ],
   "source": [
    "filePath.split(os.sep)"
   ]
  },
  {
   "cell_type": "code",
   "execution_count": 109,
   "id": "d8c468d9-1d5f-40b0-b660-969f14e6aa7a",
   "metadata": {},
   "outputs": [
    {
     "name": "stdout",
     "output_type": "stream",
     "text": [
      "61215267\n",
      "['MEGA-RECOVERYKEY.txt', 'EVS QUESTIONS.pdf', 'foo_openlyrics-v1.8.fb2k-component', 'Telegram Desktop', 'Stats', 'Exp-2 (1007)-1.pdf', 'foo_ui_columns-2.1.0.x86-x64.fb2k-component', 'EVS PRACTICAL.docx', 'media', 'Exp-2 (1007).pdf']\n"
     ]
    }
   ],
   "source": [
    "# File sizes and folder contents\n",
    "print(os.path.getsize('/home/sumit/Downloads/media/Manga/One Piece/Volume 1.cbz'))\n",
    "print(os.listdir('/home/sumit/Downloads'))"
   ]
  },
  {
   "cell_type": "code",
   "execution_count": 113,
   "id": "bfd6ce9b-0d35-487c-a2ca-19ace84e0dcf",
   "metadata": {},
   "outputs": [
    {
     "data": {
      "text/plain": [
       "[PosixPath('/home/sumit/Downloads/MEGA-RECOVERYKEY.txt'),\n",
       " PosixPath('/home/sumit/Downloads/EVS QUESTIONS.pdf'),\n",
       " PosixPath('/home/sumit/Downloads/foo_openlyrics-v1.8.fb2k-component'),\n",
       " PosixPath('/home/sumit/Downloads/Telegram Desktop'),\n",
       " PosixPath('/home/sumit/Downloads/Stats'),\n",
       " PosixPath('/home/sumit/Downloads/Exp-2 (1007)-1.pdf'),\n",
       " PosixPath('/home/sumit/Downloads/foo_ui_columns-2.1.0.x86-x64.fb2k-component'),\n",
       " PosixPath('/home/sumit/Downloads/EVS PRACTICAL.docx'),\n",
       " PosixPath('/home/sumit/Downloads/media'),\n",
       " PosixPath('/home/sumit/Downloads/Exp-2 (1007).pdf')]"
      ]
     },
     "execution_count": 113,
     "metadata": {},
     "output_type": "execute_result"
    }
   ],
   "source": [
    "# glob patterns\n",
    "# * multiple of any character\n",
    "# ? any single character\n",
    "\n",
    "p = Path('/home/sumit/Downloads')\n",
    "list(p.glob('*'))   # generator object"
   ]
  },
  {
   "cell_type": "code",
   "execution_count": 115,
   "id": "938d6028-c68b-481a-9fe2-37bea9e500ef",
   "metadata": {},
   "outputs": [
    {
     "data": {
      "text/plain": [
       "(True, True, False)"
      ]
     },
     "execution_count": 115,
     "metadata": {},
     "output_type": "execute_result"
    }
   ],
   "source": [
    "# path validity\n",
    "p = Path('/home/sumit/Downloads/media/Manga/One Piece/Volume 2.cbz')\n",
    "p.exists(), p.is_file(), p.is_dir()"
   ]
  },
  {
   "cell_type": "code",
   "execution_count": 116,
   "id": "502b2b65-9f1c-47ba-9149-c27a1458261f",
   "metadata": {},
   "outputs": [
    {
     "data": {
      "text/plain": [
       "'Hello, World!'"
      ]
     },
     "execution_count": 116,
     "metadata": {},
     "output_type": "execute_result"
    }
   ],
   "source": [
    "# Reading/Writing text files\n",
    "p = Path('spam.txt')\n",
    "p.write_text(\"Hello, World!\")\n",
    "p.read_text()"
   ]
  },
  {
   "cell_type": "code",
   "execution_count": 129,
   "id": "a76dd111-e941-433c-bbb8-493241148e28",
   "metadata": {},
   "outputs": [
    {
     "name": "stdout",
     "output_type": "stream",
     "text": [
      "Hello, World\n",
      "\n",
      "[\"When, in disgrace with fortune and men's eyes,\\n\", 'I all alone beweep my outcast state,\\n', 'And trouble deaf heaven with my bootless cries,\\n', 'And look upon myself and curse my fate,\\n']\n",
      "14\n",
      "25\n"
     ]
    }
   ],
   "source": [
    "helloFile = open(Path.home() / 'hello.txt')\n",
    "helloContent = helloFile.read()\n",
    "print(helloContent)\n",
    "helloFile.close()\n",
    "\n",
    "sonnetFile = open('/home/sumit/sonnet29.txt', 'r')\n",
    "print(sonnetFile.readlines())\n",
    "sonnetFile.close()\n",
    "\n",
    "baconFile = open('bacon.txt','w')\n",
    "print(baconFile.write('Hello, World.\\n')) # return number of characters written\n",
    "baconFile.close()\n",
    "\n",
    "baconFile = open('bacon.txt','a')\n",
    "print(baconFile.write('Bacon is not a vegetable.'))\n",
    "baconFile.close()"
   ]
  },
  {
   "cell_type": "code",
   "execution_count": null,
   "id": "e07f93a6-ee85-45f3-aae0-4d1ad1bd8d51",
   "metadata": {},
   "outputs": [],
   "source": []
  }
 ],
 "metadata": {
  "kernelspec": {
   "display_name": "Python 3 (ipykernel)",
   "language": "python",
   "name": "python3"
  },
  "language_info": {
   "codemirror_mode": {
    "name": "ipython",
    "version": 3
   },
   "file_extension": ".py",
   "mimetype": "text/x-python",
   "name": "python",
   "nbconvert_exporter": "python",
   "pygments_lexer": "ipython3",
   "version": "3.10.12"
  }
 },
 "nbformat": 4,
 "nbformat_minor": 5
}
